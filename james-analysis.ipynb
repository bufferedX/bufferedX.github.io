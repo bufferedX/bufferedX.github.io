{
 "cells": [
  {
   "cell_type": "code",
   "execution_count": 1,
   "metadata": {
    "_cell_guid": "b1076dfc-b9ad-4769-8c92-a6c4dae69d19",
    "_uuid": "8f2839f25d086af736a60e9eeb907d3b93b6e0e5",
    "execution": {
     "iopub.execute_input": "2021-02-27T11:21:11.689299Z",
     "iopub.status.busy": "2021-02-27T11:21:11.688294Z",
     "iopub.status.idle": "2021-02-27T11:21:11.711333Z",
     "shell.execute_reply": "2021-02-27T11:21:11.710251Z"
    },
    "papermill": {
     "duration": 0.035427,
     "end_time": "2021-02-27T11:21:11.711594",
     "exception": false,
     "start_time": "2021-02-27T11:21:11.676167",
     "status": "completed"
    },
    "tags": []
   },
   "outputs": [
    {
     "name": "stdout",
     "output_type": "stream",
     "text": [
      "/kaggle/input/201415-laliga-basicplayerstats/All_14-15_LaLiga.csv\n",
      "/kaggle/input/bundesliga-players-1718-basicstats/All_Bundesliga 17-18.csv\n"
     ]
    }
   ],
   "source": [
    "# This Python 3 environment comes with many helpful analytics libraries installed\n",
    "# It is defined by the kaggle/python Docker image: https://github.com/kaggle/docker-python\n",
    "# For example, here's several helpful packages to load\n",
    "\n",
    "import numpy as np # linear algebra\n",
    "import pandas as pd # data processing, CSV file I/O (e.g. pd.read_csv)\n",
    "\n",
    "# Input data files are available in the read-only \"../input/\" directory\n",
    "# For example, running this (by clicking run or pressing Shift+Enter) will list all files under the input directory\n",
    "\n",
    "import os\n",
    "for dirname, _, filenames in os.walk('/kaggle/input'):\n",
    "    for filename in filenames:\n",
    "        print(os.path.join(dirname, filename))\n",
    "\n",
    "# You can write up to 20GB to the current directory (/kaggle/working/) that gets preserved as output when you create a version using \"Save & Run All\" \n",
    "# You can also write temporary files to /kaggle/temp/, but they won't be saved outside of the current session"
   ]
  },
  {
   "cell_type": "code",
   "execution_count": 2,
   "metadata": {
    "execution": {
     "iopub.execute_input": "2021-02-27T11:21:11.733130Z",
     "iopub.status.busy": "2021-02-27T11:21:11.732500Z",
     "iopub.status.idle": "2021-02-27T11:21:11.787391Z",
     "shell.execute_reply": "2021-02-27T11:21:11.787930Z"
    },
    "papermill": {
     "duration": 0.067545,
     "end_time": "2021-02-27T11:21:11.788111",
     "exception": false,
     "start_time": "2021-02-27T11:21:11.720566",
     "status": "completed"
    },
    "tags": []
   },
   "outputs": [
    {
     "data": {
      "text/html": [
       "<div>\n",
       "<style scoped>\n",
       "    .dataframe tbody tr th:only-of-type {\n",
       "        vertical-align: middle;\n",
       "    }\n",
       "\n",
       "    .dataframe tbody tr th {\n",
       "        vertical-align: top;\n",
       "    }\n",
       "\n",
       "    .dataframe thead th {\n",
       "        text-align: right;\n",
       "    }\n",
       "</style>\n",
       "<table border=\"1\" class=\"dataframe\">\n",
       "  <thead>\n",
       "    <tr style=\"text-align: right;\">\n",
       "      <th></th>\n",
       "      <th>Player</th>\n",
       "      <th>Pos</th>\n",
       "      <th>Squad</th>\n",
       "      <th>Age</th>\n",
       "      <th>Born</th>\n",
       "      <th>MP</th>\n",
       "      <th>Starts</th>\n",
       "      <th>Min</th>\n",
       "      <th>90s</th>\n",
       "      <th>Gls</th>\n",
       "      <th>...</th>\n",
       "      <th>G-PK</th>\n",
       "      <th>PK</th>\n",
       "      <th>PKatt</th>\n",
       "      <th>CrdY</th>\n",
       "      <th>CrdR</th>\n",
       "      <th>Gls/90</th>\n",
       "      <th>Ast/90</th>\n",
       "      <th>G+A/90</th>\n",
       "      <th>G-PK//90</th>\n",
       "      <th>G+A-PK/90</th>\n",
       "    </tr>\n",
       "    <tr>\n",
       "      <th>Rk</th>\n",
       "      <th></th>\n",
       "      <th></th>\n",
       "      <th></th>\n",
       "      <th></th>\n",
       "      <th></th>\n",
       "      <th></th>\n",
       "      <th></th>\n",
       "      <th></th>\n",
       "      <th></th>\n",
       "      <th></th>\n",
       "      <th></th>\n",
       "      <th></th>\n",
       "      <th></th>\n",
       "      <th></th>\n",
       "      <th></th>\n",
       "      <th></th>\n",
       "      <th></th>\n",
       "      <th></th>\n",
       "      <th></th>\n",
       "      <th></th>\n",
       "      <th></th>\n",
       "    </tr>\n",
       "  </thead>\n",
       "  <tbody>\n",
       "    <tr>\n",
       "      <th>1</th>\n",
       "      <td>Luis Suárez</td>\n",
       "      <td>FW</td>\n",
       "      <td>Barcelona</td>\n",
       "      <td>27</td>\n",
       "      <td>1987</td>\n",
       "      <td>27</td>\n",
       "      <td>25</td>\n",
       "      <td>2159</td>\n",
       "      <td>24.0</td>\n",
       "      <td>16</td>\n",
       "      <td>...</td>\n",
       "      <td>16</td>\n",
       "      <td>0</td>\n",
       "      <td>0</td>\n",
       "      <td>4</td>\n",
       "      <td>0</td>\n",
       "      <td>0.67</td>\n",
       "      <td>0.54</td>\n",
       "      <td>1.21</td>\n",
       "      <td>0.67</td>\n",
       "      <td>1.21</td>\n",
       "    </tr>\n",
       "    <tr>\n",
       "      <th>2</th>\n",
       "      <td>James Rodríguez</td>\n",
       "      <td>FWMF</td>\n",
       "      <td>Real Madrid</td>\n",
       "      <td>23</td>\n",
       "      <td>1991</td>\n",
       "      <td>29</td>\n",
       "      <td>29</td>\n",
       "      <td>2265</td>\n",
       "      <td>25.2</td>\n",
       "      <td>13</td>\n",
       "      <td>...</td>\n",
       "      <td>13</td>\n",
       "      <td>0</td>\n",
       "      <td>0</td>\n",
       "      <td>5</td>\n",
       "      <td>0</td>\n",
       "      <td>0.52</td>\n",
       "      <td>0.52</td>\n",
       "      <td>1.03</td>\n",
       "      <td>0.52</td>\n",
       "      <td>1.03</td>\n",
       "    </tr>\n",
       "    <tr>\n",
       "      <th>3</th>\n",
       "      <td>Lionel Messi</td>\n",
       "      <td>FWMF</td>\n",
       "      <td>Barcelona</td>\n",
       "      <td>27</td>\n",
       "      <td>1987</td>\n",
       "      <td>38</td>\n",
       "      <td>37</td>\n",
       "      <td>3375</td>\n",
       "      <td>37.5</td>\n",
       "      <td>43</td>\n",
       "      <td>...</td>\n",
       "      <td>38</td>\n",
       "      <td>5</td>\n",
       "      <td>6</td>\n",
       "      <td>4</td>\n",
       "      <td>0</td>\n",
       "      <td>1.15</td>\n",
       "      <td>0.48</td>\n",
       "      <td>1.63</td>\n",
       "      <td>1.01</td>\n",
       "      <td>1.49</td>\n",
       "    </tr>\n",
       "    <tr>\n",
       "      <th>4</th>\n",
       "      <td>Denis Cheryshev</td>\n",
       "      <td>FWMF</td>\n",
       "      <td>Villarreal</td>\n",
       "      <td>23</td>\n",
       "      <td>1990</td>\n",
       "      <td>26</td>\n",
       "      <td>18</td>\n",
       "      <td>1687</td>\n",
       "      <td>18.7</td>\n",
       "      <td>4</td>\n",
       "      <td>...</td>\n",
       "      <td>4</td>\n",
       "      <td>0</td>\n",
       "      <td>0</td>\n",
       "      <td>7</td>\n",
       "      <td>0</td>\n",
       "      <td>0.21</td>\n",
       "      <td>0.48</td>\n",
       "      <td>0.69</td>\n",
       "      <td>0.21</td>\n",
       "      <td>0.69</td>\n",
       "    </tr>\n",
       "    <tr>\n",
       "      <th>5</th>\n",
       "      <td>Cristiano Ronaldo</td>\n",
       "      <td>FWMF</td>\n",
       "      <td>Real Madrid</td>\n",
       "      <td>29</td>\n",
       "      <td>1985</td>\n",
       "      <td>35</td>\n",
       "      <td>35</td>\n",
       "      <td>3100</td>\n",
       "      <td>34.4</td>\n",
       "      <td>48</td>\n",
       "      <td>...</td>\n",
       "      <td>38</td>\n",
       "      <td>10</td>\n",
       "      <td>12</td>\n",
       "      <td>5</td>\n",
       "      <td>1</td>\n",
       "      <td>1.39</td>\n",
       "      <td>0.46</td>\n",
       "      <td>1.86</td>\n",
       "      <td>1.10</td>\n",
       "      <td>1.57</td>\n",
       "    </tr>\n",
       "  </tbody>\n",
       "</table>\n",
       "<p>5 rows × 21 columns</p>\n",
       "</div>"
      ],
      "text/plain": [
       "               Player   Pos        Squad  Age  Born  MP  Starts   Min   90s  \\\n",
       "Rk                                                                            \n",
       "1         Luis Suárez    FW    Barcelona   27  1987  27      25  2159  24.0   \n",
       "2     James Rodríguez  FWMF  Real Madrid   23  1991  29      29  2265  25.2   \n",
       "3        Lionel Messi  FWMF    Barcelona   27  1987  38      37  3375  37.5   \n",
       "4     Denis Cheryshev  FWMF   Villarreal   23  1990  26      18  1687  18.7   \n",
       "5   Cristiano Ronaldo  FWMF  Real Madrid   29  1985  35      35  3100  34.4   \n",
       "\n",
       "    Gls  ...  G-PK  PK  PKatt  CrdY  CrdR  Gls/90  Ast/90  G+A/90  G-PK//90  \\\n",
       "Rk       ...                                                                  \n",
       "1    16  ...    16   0      0     4     0    0.67    0.54    1.21      0.67   \n",
       "2    13  ...    13   0      0     5     0    0.52    0.52    1.03      0.52   \n",
       "3    43  ...    38   5      6     4     0    1.15    0.48    1.63      1.01   \n",
       "4     4  ...     4   0      0     7     0    0.21    0.48    0.69      0.21   \n",
       "5    48  ...    38  10     12     5     1    1.39    0.46    1.86      1.10   \n",
       "\n",
       "    G+A-PK/90  \n",
       "Rk             \n",
       "1        1.21  \n",
       "2        1.03  \n",
       "3        1.49  \n",
       "4        0.69  \n",
       "5        1.57  \n",
       "\n",
       "[5 rows x 21 columns]"
      ]
     },
     "execution_count": 2,
     "metadata": {},
     "output_type": "execute_result"
    }
   ],
   "source": [
    "laliga = pd.read_csv('/kaggle/input/201415-laliga-basicplayerstats/All_14-15_LaLiga.csv',index_col = 'Rk')\n",
    "laliga.head()"
   ]
  },
  {
   "cell_type": "code",
   "execution_count": 3,
   "metadata": {
    "execution": {
     "iopub.execute_input": "2021-02-27T11:21:11.811445Z",
     "iopub.status.busy": "2021-02-27T11:21:11.810410Z",
     "iopub.status.idle": "2021-02-27T11:21:12.031973Z",
     "shell.execute_reply": "2021-02-27T11:21:12.032430Z"
    },
    "papermill": {
     "duration": 0.234952,
     "end_time": "2021-02-27T11:21:12.032607",
     "exception": false,
     "start_time": "2021-02-27T11:21:11.797655",
     "status": "completed"
    },
    "tags": []
   },
   "outputs": [
    {
     "data": {
      "text/plain": [
       "<AxesSubplot:ylabel='Player'>"
      ]
     },
     "execution_count": 3,
     "metadata": {},
     "output_type": "execute_result"
    },
    {
     "data": {
      "image/png": "[encoded data removed]",
      "text/plain": [
       "<Figure size 432x288 with 1 Axes>"
      ]
     },
     "metadata": {
      "needs_background": "light"
     },
     "output_type": "display_data"
    }
   ],
   "source": [
    "laliga[laliga['90s'] > 23].nlargest(5,['Ast']).plot.barh(x='Player' , y= 'Ast',legend=False)"
   ]
  },
  {
   "cell_type": "code",
   "execution_count": 4,
   "metadata": {
    "execution": {
     "iopub.execute_input": "2021-02-27T11:21:12.059814Z",
     "iopub.status.busy": "2021-02-27T11:21:12.055525Z",
     "iopub.status.idle": "2021-02-27T11:21:13.327129Z",
     "shell.execute_reply": "2021-02-27T11:21:13.327850Z"
    },
    "papermill": {
     "duration": 1.285393,
     "end_time": "2021-02-27T11:21:13.328032",
     "exception": false,
     "start_time": "2021-02-27T11:21:12.042639",
     "status": "completed"
    },
    "tags": []
   },
   "outputs": [
    {
     "data": {
      "text/plain": [
       "<AxesSubplot:xlabel='G+A/90', ylabel='Player'>"
      ]
     },
     "execution_count": 4,
     "metadata": {},
     "output_type": "execute_result"
    },
    {
     "data": {
      "image/png": "[encoded data removed]",
      "text/plain": [
       "<Figure size 576x576 with 2 Axes>"
      ]
     },
     "metadata": {
      "needs_background": "light"
     },
     "output_type": "display_data"
    }
   ],
   "source": [
    "import seaborn as sns\n",
    "import matplotlib.pyplot as plt\n",
    "fig,(ax1,ax2) = plt.subplots(2,1,figsize=(8,8))\n",
    "sns.barplot(data=laliga[laliga['90s'] > 23].nlargest(5,'Ast/90') , x = 'Ast/90' , y='Player' ,ax=ax1)\n",
    "sns.barplot(data=laliga[laliga['90s'] > 23].nlargest(5,'G+A/90') , x = 'G+A/90' , y='Player' ,ax=ax2)"
   ]
  },
  {
   "cell_type": "code",
   "execution_count": 5,
   "metadata": {
    "execution": {
     "iopub.execute_input": "2021-02-27T11:21:13.356366Z",
     "iopub.status.busy": "2021-02-27T11:21:13.355572Z",
     "iopub.status.idle": "2021-02-27T11:21:13.359521Z",
     "shell.execute_reply": "2021-02-27T11:21:13.359007Z"
    },
    "papermill": {
     "duration": 0.019848,
     "end_time": "2021-02-27T11:21:13.359671",
     "exception": false,
     "start_time": "2021-02-27T11:21:13.339823",
     "status": "completed"
    },
    "tags": []
   },
   "outputs": [
    {
     "data": {
      "text/plain": [
       "23.0"
      ]
     },
     "execution_count": 5,
     "metadata": {},
     "output_type": "execute_result"
    }
   ],
   "source": [
    "laliga['90s'].median()"
   ]
  },
  {
   "cell_type": "code",
   "execution_count": 6,
   "metadata": {
    "execution": {
     "iopub.execute_input": "2021-02-27T11:21:13.386625Z",
     "iopub.status.busy": "2021-02-27T11:21:13.386000Z",
     "iopub.status.idle": "2021-02-27T11:21:13.424913Z",
     "shell.execute_reply": "2021-02-27T11:21:13.424179Z"
    },
    "papermill": {
     "duration": 0.054066,
     "end_time": "2021-02-27T11:21:13.425061",
     "exception": false,
     "start_time": "2021-02-27T11:21:13.370995",
     "status": "completed"
    },
    "tags": []
   },
   "outputs": [
    {
     "data": {
      "text/html": [
       "<div>\n",
       "<style scoped>\n",
       "    .dataframe tbody tr th:only-of-type {\n",
       "        vertical-align: middle;\n",
       "    }\n",
       "\n",
       "    .dataframe tbody tr th {\n",
       "        vertical-align: top;\n",
       "    }\n",
       "\n",
       "    .dataframe thead th {\n",
       "        text-align: right;\n",
       "    }\n",
       "</style>\n",
       "<table border=\"1\" class=\"dataframe\">\n",
       "  <thead>\n",
       "    <tr style=\"text-align: right;\">\n",
       "      <th></th>\n",
       "      <th>Player</th>\n",
       "      <th>Pos</th>\n",
       "      <th>Squad</th>\n",
       "      <th>Age</th>\n",
       "      <th>Born</th>\n",
       "      <th>MP</th>\n",
       "      <th>Starts</th>\n",
       "      <th>Min</th>\n",
       "      <th>90s</th>\n",
       "      <th>Gls</th>\n",
       "      <th>...</th>\n",
       "      <th>G+A-PK/90</th>\n",
       "      <th>xG</th>\n",
       "      <th>npxG</th>\n",
       "      <th>xA</th>\n",
       "      <th>npxG+xA</th>\n",
       "      <th>xG/90</th>\n",
       "      <th>xA/90</th>\n",
       "      <th>xG+xA/90</th>\n",
       "      <th>npxG/90</th>\n",
       "      <th>npxG+xA/90</th>\n",
       "    </tr>\n",
       "    <tr>\n",
       "      <th>Rk</th>\n",
       "      <th></th>\n",
       "      <th></th>\n",
       "      <th></th>\n",
       "      <th></th>\n",
       "      <th></th>\n",
       "      <th></th>\n",
       "      <th></th>\n",
       "      <th></th>\n",
       "      <th></th>\n",
       "      <th></th>\n",
       "      <th></th>\n",
       "      <th></th>\n",
       "      <th></th>\n",
       "      <th></th>\n",
       "      <th></th>\n",
       "      <th></th>\n",
       "      <th></th>\n",
       "      <th></th>\n",
       "      <th></th>\n",
       "      <th></th>\n",
       "      <th></th>\n",
       "    </tr>\n",
       "  </thead>\n",
       "  <tbody>\n",
       "    <tr>\n",
       "      <th>1</th>\n",
       "      <td>Thomas Müller</td>\n",
       "      <td>FWMF</td>\n",
       "      <td>Bayern Munich</td>\n",
       "      <td>27</td>\n",
       "      <td>1989</td>\n",
       "      <td>29</td>\n",
       "      <td>22</td>\n",
       "      <td>2005</td>\n",
       "      <td>22.3</td>\n",
       "      <td>8</td>\n",
       "      <td>...</td>\n",
       "      <td>0.99</td>\n",
       "      <td>6.7</td>\n",
       "      <td>6.7</td>\n",
       "      <td>8.9</td>\n",
       "      <td>15.5</td>\n",
       "      <td>0.31</td>\n",
       "      <td>0.41</td>\n",
       "      <td>0.71</td>\n",
       "      <td>0.31</td>\n",
       "      <td>0.71</td>\n",
       "    </tr>\n",
       "    <tr>\n",
       "      <th>2</th>\n",
       "      <td>James Rodríguez</td>\n",
       "      <td>MF</td>\n",
       "      <td>Bayern Munich</td>\n",
       "      <td>26</td>\n",
       "      <td>1991</td>\n",
       "      <td>23</td>\n",
       "      <td>19</td>\n",
       "      <td>1621</td>\n",
       "      <td>18.0</td>\n",
       "      <td>7</td>\n",
       "      <td>...</td>\n",
       "      <td>1.00</td>\n",
       "      <td>4.2</td>\n",
       "      <td>4.2</td>\n",
       "      <td>7.5</td>\n",
       "      <td>11.6</td>\n",
       "      <td>0.23</td>\n",
       "      <td>0.41</td>\n",
       "      <td>0.65</td>\n",
       "      <td>0.23</td>\n",
       "      <td>0.65</td>\n",
       "    </tr>\n",
       "    <tr>\n",
       "      <th>3</th>\n",
       "      <td>André Schürrle</td>\n",
       "      <td>FW</td>\n",
       "      <td>Dortmund</td>\n",
       "      <td>26</td>\n",
       "      <td>1990</td>\n",
       "      <td>18</td>\n",
       "      <td>11</td>\n",
       "      <td>1236</td>\n",
       "      <td>13.7</td>\n",
       "      <td>1</td>\n",
       "      <td>...</td>\n",
       "      <td>0.51</td>\n",
       "      <td>4.6</td>\n",
       "      <td>3.8</td>\n",
       "      <td>2.3</td>\n",
       "      <td>6.2</td>\n",
       "      <td>0.33</td>\n",
       "      <td>0.17</td>\n",
       "      <td>0.51</td>\n",
       "      <td>0.28</td>\n",
       "      <td>0.45</td>\n",
       "    </tr>\n",
       "    <tr>\n",
       "      <th>4</th>\n",
       "      <td>Joshua Kimmich</td>\n",
       "      <td>DF</td>\n",
       "      <td>Bayern Munich</td>\n",
       "      <td>22</td>\n",
       "      <td>1995</td>\n",
       "      <td>29</td>\n",
       "      <td>26</td>\n",
       "      <td>2329</td>\n",
       "      <td>25.9</td>\n",
       "      <td>1</td>\n",
       "      <td>...</td>\n",
       "      <td>0.43</td>\n",
       "      <td>0.6</td>\n",
       "      <td>0.6</td>\n",
       "      <td>5.8</td>\n",
       "      <td>6.4</td>\n",
       "      <td>0.02</td>\n",
       "      <td>0.22</td>\n",
       "      <td>0.25</td>\n",
       "      <td>0.02</td>\n",
       "      <td>0.25</td>\n",
       "    </tr>\n",
       "    <tr>\n",
       "      <th>5</th>\n",
       "      <td>Philipp Max</td>\n",
       "      <td>DF</td>\n",
       "      <td>Augsburg</td>\n",
       "      <td>23</td>\n",
       "      <td>1993</td>\n",
       "      <td>33</td>\n",
       "      <td>33</td>\n",
       "      <td>2959</td>\n",
       "      <td>32.9</td>\n",
       "      <td>2</td>\n",
       "      <td>...</td>\n",
       "      <td>0.43</td>\n",
       "      <td>1.1</td>\n",
       "      <td>1.1</td>\n",
       "      <td>8.8</td>\n",
       "      <td>9.8</td>\n",
       "      <td>0.03</td>\n",
       "      <td>0.27</td>\n",
       "      <td>0.30</td>\n",
       "      <td>0.03</td>\n",
       "      <td>0.30</td>\n",
       "    </tr>\n",
       "  </tbody>\n",
       "</table>\n",
       "<p>5 rows × 30 columns</p>\n",
       "</div>"
      ],
      "text/plain": [
       "             Player   Pos          Squad  Age  Born  MP  Starts   Min   90s  \\\n",
       "Rk                                                                            \n",
       "1     Thomas Müller  FWMF  Bayern Munich   27  1989  29      22  2005  22.3   \n",
       "2   James Rodríguez    MF  Bayern Munich   26  1991  23      19  1621  18.0   \n",
       "3    André Schürrle    FW       Dortmund   26  1990  18      11  1236  13.7   \n",
       "4    Joshua Kimmich    DF  Bayern Munich   22  1995  29      26  2329  25.9   \n",
       "5       Philipp Max    DF       Augsburg   23  1993  33      33  2959  32.9   \n",
       "\n",
       "    Gls  ...  G+A-PK/90   xG  npxG   xA  npxG+xA  xG/90  xA/90  xG+xA/90  \\\n",
       "Rk       ...                                                               \n",
       "1     8  ...       0.99  6.7   6.7  8.9     15.5   0.31   0.41      0.71   \n",
       "2     7  ...       1.00  4.2   4.2  7.5     11.6   0.23   0.41      0.65   \n",
       "3     1  ...       0.51  4.6   3.8  2.3      6.2   0.33   0.17      0.51   \n",
       "4     1  ...       0.43  0.6   0.6  5.8      6.4   0.02   0.22      0.25   \n",
       "5     2  ...       0.43  1.1   1.1  8.8      9.8   0.03   0.27      0.30   \n",
       "\n",
       "    npxG/90  npxG+xA/90  \n",
       "Rk                       \n",
       "1      0.31        0.71  \n",
       "2      0.23        0.65  \n",
       "3      0.28        0.45  \n",
       "4      0.02        0.25  \n",
       "5      0.03        0.30  \n",
       "\n",
       "[5 rows x 30 columns]"
      ]
     },
     "execution_count": 6,
     "metadata": {},
     "output_type": "execute_result"
    }
   ],
   "source": [
    "bundesliga = pd.read_csv('/kaggle/input/bundesliga-players-1718-basicstats/All_Bundesliga 17-18.csv'\n",
    "                         ,index_col = \"Rk\")\n",
    "bundesliga.head()"
   ]
  },
  {
   "cell_type": "code",
   "execution_count": 7,
   "metadata": {
    "execution": {
     "iopub.execute_input": "2021-02-27T11:21:13.458116Z",
     "iopub.status.busy": "2021-02-27T11:21:13.457297Z",
     "iopub.status.idle": "2021-02-27T11:21:13.461203Z",
     "shell.execute_reply": "2021-02-27T11:21:13.461784Z"
    },
    "papermill": {
     "duration": 0.023643,
     "end_time": "2021-02-27T11:21:13.461953",
     "exception": false,
     "start_time": "2021-02-27T11:21:13.438310",
     "status": "completed"
    },
    "tags": []
   },
   "outputs": [
    {
     "data": {
      "text/plain": [
       "21.6"
      ]
     },
     "execution_count": 7,
     "metadata": {},
     "output_type": "execute_result"
    }
   ],
   "source": [
    "bundesliga['90s'].median()"
   ]
  },
  {
   "cell_type": "code",
   "execution_count": 8,
   "metadata": {
    "execution": {
     "iopub.execute_input": "2021-02-27T11:21:13.511895Z",
     "iopub.status.busy": "2021-02-27T11:21:13.497653Z",
     "iopub.status.idle": "2021-02-27T11:21:13.804987Z",
     "shell.execute_reply": "2021-02-27T11:21:13.804314Z"
    },
    "papermill": {
     "duration": 0.32906,
     "end_time": "2021-02-27T11:21:13.805140",
     "exception": false,
     "start_time": "2021-02-27T11:21:13.476080",
     "status": "completed"
    },
    "tags": []
   },
   "outputs": [
    {
     "data": {
      "text/plain": [
       "<AxesSubplot:xlabel='G+A/90', ylabel='Player'>"
      ]
     },
     "execution_count": 8,
     "metadata": {},
     "output_type": "execute_result"
    },
    {
     "data": {
      "image/png": "[encoded data removed]",
      "text/plain": [
       "<Figure size 576x576 with 2 Axes>"
      ]
     },
     "metadata": {
      "needs_background": "light"
     },
     "output_type": "display_data"
    }
   ],
   "source": [
    "import seaborn as sns\n",
    "import matplotlib.pyplot as plt\n",
    "fig,(ax1,ax2) = plt.subplots(2,1,figsize=(8,8))\n",
    "sns.barplot(data=bundesliga[bundesliga['90s'] > 17].nlargest(5,'Ast/90') , x = 'Ast/90' , y='Player' ,ax=ax1)\n",
    "sns.barplot(data=bundesliga[bundesliga['90s'] > 17].nlargest(5,'G+A/90') , x = 'G+A/90' , y='Player' ,ax=ax2)"
   ]
  },
  {
   "cell_type": "code",
   "execution_count": 9,
   "metadata": {
    "execution": {
     "iopub.execute_input": "2021-02-27T11:21:13.863967Z",
     "iopub.status.busy": "2021-02-27T11:21:13.860619Z",
     "iopub.status.idle": "2021-02-27T11:21:14.023523Z",
     "shell.execute_reply": "2021-02-27T11:21:14.023997Z"
    },
    "papermill": {
     "duration": 0.204507,
     "end_time": "2021-02-27T11:21:14.024186",
     "exception": false,
     "start_time": "2021-02-27T11:21:13.819679",
     "status": "completed"
    },
    "tags": []
   },
   "outputs": [
    {
     "data": {
      "text/plain": [
       "<AxesSubplot:xlabel='xG+xA/90', ylabel='G+A/90'>"
      ]
     },
     "execution_count": 9,
     "metadata": {},
     "output_type": "execute_result"
    },
    {
     "data": {
      "image/png": "[encoded data removed]",
      "text/plain": [
       "<Figure size 432x288 with 1 Axes>"
      ]
     },
     "metadata": {
      "needs_background": "light"
     },
     "output_type": "display_data"
    }
   ],
   "source": [
    "sns.scatterplot(data=bundesliga[bundesliga['90s'] > 17] , x = 'xG+xA/90' , y='G+A/90')"
   ]
  },
  {
   "cell_type": "code",
   "execution_count": 10,
   "metadata": {
    "execution": {
     "iopub.execute_input": "2021-02-27T11:21:14.059256Z",
     "iopub.status.busy": "2021-02-27T11:21:14.058584Z",
     "iopub.status.idle": "2021-02-27T11:21:14.065666Z",
     "shell.execute_reply": "2021-02-27T11:21:14.066211Z"
    },
    "papermill": {
     "duration": 0.026513,
     "end_time": "2021-02-27T11:21:14.066376",
     "exception": false,
     "start_time": "2021-02-27T11:21:14.039863",
     "status": "completed"
    },
    "tags": []
   },
   "outputs": [
    {
     "data": {
      "text/plain": [
       "Int64Index([  1,   2,   4,   5,   7,   8,   9,  12,  15,  18,\n",
       "            ...\n",
       "            255, 256, 257, 258, 259, 260, 261, 262, 263, 265],\n",
       "           dtype='int64', name='Rk', length=189)"
      ]
     },
     "execution_count": 10,
     "metadata": {},
     "output_type": "execute_result"
    }
   ],
   "source": [
    "bundesliga[bundesliga['90s'] > 17].index"
   ]
  },
  {
   "cell_type": "code",
   "execution_count": 11,
   "metadata": {
    "execution": {
     "iopub.execute_input": "2021-02-27T11:21:14.101791Z",
     "iopub.status.busy": "2021-02-27T11:21:14.101141Z",
     "iopub.status.idle": "2021-02-27T11:21:16.324634Z",
     "shell.execute_reply": "2021-02-27T11:21:16.325199Z"
    },
    "papermill": {
     "duration": 2.242861,
     "end_time": "2021-02-27T11:21:16.325381",
     "exception": false,
     "start_time": "2021-02-27T11:21:14.082520",
     "status": "completed"
    },
    "tags": []
   },
   "outputs": [
    {
     "data": {
      "text/html": [
       "        <script type=\"text/javascript\">\n",
       "        window.PlotlyConfig = {MathJaxConfig: 'local'};\n",
       "        if (window.MathJax) {MathJax.Hub.Config({SVG: {font: \"STIX-Web\"}});}\n",
       "        if (typeof require !== 'undefined') {\n",
       "        require.undef(\"plotly\");\n",
       "        requirejs.config({\n",
       "            paths: {\n",
       "                'plotly': ['https://cdn.plot.ly/plotly-latest.min']\n",
       "            }\n",
       "        });\n",
       "        require(['plotly'], function(Plotly) {\n",
       "            window._Plotly = Plotly;\n",
       "        });\n",
       "        }\n",
       "        </script>\n",
       "        "
      ]
     },
     "metadata": {},
     "output_type": "display_data"
    },
    {
     "data": {
      "application/vnd.plotly.v1+json": {
       "config": {
        "plotlyServerURL": "https://plot.ly"
       },
       "data": [
        {
         "customdata": [
          [
           "Thomas Müller",
           "Bayern Munich",
           27
          ],
          [
           "James Rodríguez",
           "Bayern Munich",
           26
          ],
          [
           "Joshua Kimmich",
           "Bayern Munich",
           22
          ],
          [
           "Philipp Max",
           "Augsburg",
           23
          ],
          [
           "Kai Havertz",
           "Leverkusen",
           18
          ],
          [
           "Mark Uth",
           "Hoffenheim",
           25
          ],
          [
           "Daniel Caligiuri",
           "Schalke 04",
           29
          ],
          [
           "Marius Wolf",
           "Eint Frankfurt",
           22
          ],
          [
           "Dennis Aogo",
           "Stuttgart",
           30
          ],
          [
           "Timo Werner",
           "RB Leipzig",
           21
          ],
          [
           "Marcel Sabitzer",
           "RB Leipzig",
           23
          ],
          [
           "Andrej Kramarić",
           "Hoffenheim",
           26
          ],
          [
           "Leon Bailey",
           "Leverkusen",
           19
          ],
          [
           "Valentino Lazaro",
           "Hertha BSC",
           21
          ],
          [
           "Pirmin Schwegler",
           "Hannover 96",
           30
          ],
          [
           "Naby Keïta",
           "RB Leipzig",
           22
          ],
          [
           "Lucas Alario",
           "Leverkusen",
           24
          ],
          [
           "Yevhen Konoplyanka",
           "Schalke 04",
           27
          ],
          [
           "Corentin Tolisso",
           "Bayern Munich",
           22
          ],
          [
           "Lars Bender",
           "Leverkusen",
           28
          ],
          [
           "Caiuby",
           "Augsburg",
           29
          ],
          [
           "Max Kruse",
           "Werder Bremen",
           29
          ],
          [
           "Zlatko Junuzović",
           "Werder Bremen",
           29
          ],
          [
           "Marvin Plattenhardt",
           "Hertha BSC",
           25
          ],
          [
           "Levin Öztunalı",
           "Mainz 05",
           21
          ],
          [
           "Christian Pulisic",
           "Dortmund",
           18
          ],
          [
           "Daniel Didavi",
           "Wolfsburg",
           27
          ],
          [
           "Timothy Chandler",
           "Eint Frankfurt",
           27
          ],
          [
           "Daniel Brosinski",
           "Mainz 05",
           29
          ],
          [
           "Mario Götze",
           "Dortmund",
           25
          ],
          [
           "Leonardo Bittencourt",
           "Köln",
           23
          ],
          [
           "Vladimír Darida",
           "Hertha BSC",
           26
          ],
          [
           "Yunus Mallı",
           "Wolfsburg",
           25
          ],
          [
           "Florian Kainz",
           "Werder Bremen",
           24
          ],
          [
           "Panagiotis Retsos",
           "Leverkusen",
           18
          ],
          [
           "Thorgan Hazard",
           "M'Gladbach",
           24
          ],
          [
           "Guido Burgstaller",
           "Schalke 04",
           28
          ],
          [
           "Sébastien Haller",
           "Eint Frankfurt",
           23
          ],
          [
           "Alfreð Finnbogason",
           "Augsburg",
           28
          ],
          [
           "Mijat Gaćinović",
           "Eint Frankfurt",
           22
          ],
          [
           "Nadiem Amiri",
           "Hoffenheim",
           20
          ],
          [
           "Dennis Diekmeier",
           "Hamburger SV",
           27
          ],
          [
           "Janik Haberer",
           "Freiburg",
           23
          ],
          [
           "Thomas Delaney",
           "Werder Bremen",
           25
          ],
          [
           "Amine Harit",
           "Schalke 04",
           20
          ],
          [
           "Kevin Kampl",
           "RB Leipzig",
           26
          ],
          [
           "Wendell",
           "Leverkusen",
           24
          ],
          [
           "Łukasz Piszczek",
           "Dortmund",
           32
          ],
          [
           "Christian Günter",
           "Freiburg",
           24
          ],
          [
           "Salomon Kalou",
           "Hertha BSC",
           31
          ],
          [
           "Julian Brandt",
           "Leverkusen",
           21
          ],
          [
           "Pavel Kadeřábek",
           "Hoffenheim",
           25
          ],
          [
           "Charles Aránguiz",
           "Leverkusen",
           28
          ],
          [
           "Diego Demme",
           "RB Leipzig",
           25
          ],
          [
           "Giulio Donati",
           "Mainz 05",
           27
          ],
          [
           "Nicolas Höfler",
           "Freiburg",
           27
          ],
          [
           "David Alaba",
           "Bayern Munich",
           25
          ],
          [
           "Niclas Füllkrug",
           "Hannover 96",
           24
          ],
          [
           "Michael Gregoritsch",
           "Augsburg",
           23
          ],
          [
           "Yussuf Poulsen",
           "RB Leipzig",
           23
          ],
          [
           "Bruma",
           "RB Leipzig",
           22
          ],
          [
           "Pablo de Blasis",
           "Mainz 05",
           29
          ],
          [
           "Jetro Willems",
           "Eint Frankfurt",
           23
          ],
          [
           "Javi Martínez",
           "Bayern Munich",
           28
          ],
          [
           "Jérôme Boateng",
           "Bayern Munich",
           28
          ],
          [
           "William",
           "Wolfsburg",
           22
          ],
          [
           "Lars Stindl",
           "M'Gladbach",
           28
          ],
          [
           "Maximilian Eggestein",
           "Werder Bremen",
           20
          ],
          [
           "Jean-Philippe Gbamin",
           "Mainz 05",
           21
          ],
          [
           "Martin Harnik",
           "Hannover 96",
           30
          ],
          [
           "Ante Rebić",
           "Eint Frankfurt",
           23
          ],
          [
           "Nico Schulz",
           "Hoffenheim",
           24
          ],
          [
           "Jonas Hector",
           "Köln",
           27
          ],
          [
           "Florian Grillitsch",
           "Hoffenheim",
           21
          ],
          [
           "Rafinha",
           "Bayern Munich",
           31
          ],
          [
           "Divock Origi",
           "Wolfsburg",
           22
          ],
          [
           "Aaron Hunt",
           "Hamburger SV",
           30
          ],
          [
           "Yuya Osako",
           "Köln",
           27
          ],
          [
           "Yoshinori Mutō",
           "Mainz 05",
           25
          ],
          [
           "Felix Klaus",
           "Hannover 96",
           24
          ],
          [
           "Leon Goretzka",
           "Schalke 04",
           22
          ],
          [
           "Mitchell Weiser",
           "Hertha BSC",
           23
          ],
          [
           "Emiliano Insúa",
           "Stuttgart",
           28
          ],
          [
           "Robin Knoche",
           "Wolfsburg",
           25
          ],
          [
           "Robert Lewandowski",
           "Bayern Munich",
           28
          ],
          [
           "Ihlas Bebou",
           "Hannover 96",
           23
          ],
          [
           "Bastian Oczipka",
           "Schalke 04",
           28
          ],
          [
           "Benjamin Hübner",
           "Hoffenheim",
           28
          ],
          [
           "Benjamin Stambouli",
           "Schalke 04",
           26
          ],
          [
           "Karim Rekik",
           "Hertha BSC",
           22
          ],
          [
           "David Abraham",
           "Eint Frankfurt",
           31
          ],
          [
           "Kevin Volland",
           "Leverkusen",
           25
          ],
          [
           "Christian Gentner",
           "Stuttgart",
           31
          ],
          [
           "Josuha Guilavogui",
           "Wolfsburg",
           26
          ],
          [
           "Paul Verhaegh",
           "Wolfsburg",
           33
          ],
          [
           "Daniel Baier",
           "Augsburg",
           33
          ],
          [
           "Jonathan Tah",
           "Leverkusen",
           21
          ],
          [
           "Naldo",
           "Schalke 04",
           34
          ],
          [
           "Matthias Ginter",
           "M'Gladbach",
           23
          ],
          [
           "Nico Elvedi",
           "M'Gladbach",
           20
          ],
          [
           "Dennis Geiger",
           "Hoffenheim",
           19
          ],
          [
           "Franco Di Santo",
           "Schalke 04",
           28
          ],
          [
           "Dominik Kohr",
           "Leverkusen",
           23
          ],
          [
           "Mathew Leckie",
           "Hertha BSC",
           26
          ],
          [
           "Salih Özcan",
           "Köln",
           19
          ],
          [
           "Robin Koch",
           "Freiburg",
           21
          ],
          [
           "Niklas Süle",
           "Bayern Munich",
           21
          ],
          [
           "Kevin Akpoguma",
           "Hoffenheim",
           22
          ],
          [
           "Andreas Beck",
           "Stuttgart",
           30
          ],
          [
           "Philipp Bargfrede",
           "Werder Bremen",
           28
          ],
          [
           "Jorge Meré",
           "Köln",
           20
          ],
          [
           "Oliver Sorg",
           "Hannover 96",
           27
          ],
          [
           "Nils Petersen",
           "Freiburg",
           28
          ],
          [
           "Raffael",
           "M'Gladbach",
           32
          ],
          [
           "Filip Kostić",
           "Hamburger SV",
           24
          ],
          [
           "Kevin-Prince Boateng",
           "Eint Frankfurt",
           30
          ],
          [
           "Danny Latza",
           "Mainz 05",
           27
          ],
          [
           "Oscar Wendt",
           "M'Gladbach",
           31
          ],
          [
           "Marvin Bakalorz",
           "Hannover 96",
           27
          ],
          [
           "Ludwig Augustinsson",
           "Werder Bremen",
           23
          ],
          [
           "Julian Korb",
           "Hannover 96",
           25
          ],
          [
           "Frederik Sørensen",
           "Köln",
           25
          ],
          [
           "Abdou Diallo",
           "Mainz 05",
           21
          ],
          [
           "Mats Hummels",
           "Bayern Munich",
           28
          ],
          [
           "Douglas Santos",
           "Hamburger SV",
           23
          ],
          [
           "Matthias Ostrzolek",
           "Hannover 96",
           27
          ],
          [
           "Denis Zakaria",
           "M'Gladbach",
           20
          ],
          [
           "Rani Khedira",
           "Augsburg",
           23
          ],
          [
           "Niklas Stark",
           "Hertha BSC",
           22
          ],
          [
           "Gideon Jung",
           "Hamburger SV",
           22
          ],
          [
           "Ömer Toprak",
           "Dortmund",
           28
          ],
          [
           "Santiago Ascacíbar",
           "Stuttgart",
           20
          ],
          [
           "Salif Sané",
           "Hannover 96",
           26
          ],
          [
           "Kyriakos Papadopoulos",
           "Hamburger SV",
           25
          ],
          [
           "Kevin Vogt",
           "Hoffenheim",
           25
          ],
          [
           "Davie Selke",
           "Hertha BSC",
           22
          ],
          [
           "Bobby Wood",
           "Hamburger SV",
           24
          ],
          [
           "Maximilian Arnold",
           "Wolfsburg",
           23
          ],
          [
           "Koo Ja-cheol",
           "Augsburg",
           28
          ],
          [
           "Suat Serdar",
           "Mainz 05",
           20
          ],
          [
           "Theodor Gebre Selassie",
           "Werder Bremen",
           30
          ],
          [
           "Willi Orban",
           "RB Leipzig",
           24
          ],
          [
           "Lukas Klostermann",
           "RB Leipzig",
           21
          ],
          [
           "Martin Hinteregger",
           "Augsburg",
           24
          ],
          [
           "Stefan Bell",
           "Mainz 05",
           25
          ],
          [
           "Dayot Upamecano",
           "RB Leipzig",
           18
          ],
          [
           "Sven Bender",
           "Leverkusen",
           28
          ],
          [
           "Christoph Kramer",
           "M'Gladbach",
           26
          ],
          [
           "Jannik Vestergaard",
           "M'Gladbach",
           24
          ],
          [
           "Benjamin Pavard",
           "Stuttgart",
           21
          ],
          [
           "Simon Falette",
           "Eint Frankfurt",
           25
          ],
          [
           "Waldemar Anton",
           "Hannover 96",
           21
          ],
          [
           "Fabian Lustenberger",
           "Hertha BSC",
           29
          ],
          [
           "Pascal Stenzel",
           "Freiburg",
           21
          ],
          [
           "Marco Höger",
           "Köln",
           27
          ],
          [
           "Thilo Kehrer",
           "Schalke 04",
           20
          ],
          [
           "Niklas Moisander",
           "Werder Bremen",
           31
          ],
          [
           "Gōtoku Sakai",
           "Hamburger SV",
           26
          ],
          [
           "Sokratis Papastathopoulos",
           "Dortmund",
           29
          ],
          [
           "Jeffrey Gouweleeuw",
           "Augsburg",
           26
          ],
          [
           "Holger Badstuber",
           "Stuttgart",
           28
          ],
          [
           "Per Ciljan Skjelbred",
           "Hertha BSC",
           30
          ],
          [
           "Matija Nastasić",
           "Schalke 04",
           24
          ],
          [
           "Çağlar Söyüncü",
           "Freiburg",
           21
          ],
          [
           "Max Meyer",
           "Schalke 04",
           21
          ],
          [
           "Miloš Veljković",
           "Werder Bremen",
           21
          ],
          [
           "Timo Baumgartl",
           "Stuttgart",
           21
          ],
          [
           "Dominique Heintz",
           "Köln",
           23
          ],
          [
           "Ohis Felix Uduokhai",
           "Wolfsburg",
           19
          ],
          [
           "Julian Weigl",
           "Dortmund",
           21
          ],
          [
           "Ralf Fährmann",
           "Schalke 04",
           28
          ],
          [
           "Timo Horn",
           "Köln",
           24
          ],
          [
           "Carlos Salcedo",
           "Eint Frankfurt",
           23
          ],
          [
           "Makoto Hasebe",
           "Eint Frankfurt",
           33
          ],
          [
           "Oliver Baumann",
           "Hoffenheim",
           27
          ],
          [
           "Roman Bürki",
           "Dortmund",
           26
          ],
          [
           "Koen Casteels",
           "Wolfsburg",
           25
          ],
          [
           "Péter Gulácsi",
           "RB Leipzig",
           27
          ],
          [
           "Marwin Hitz",
           "Augsburg",
           29
          ],
          [
           "Lukáš Hrádecký",
           "Eint Frankfurt",
           27
          ],
          [
           "Rune Jarstein",
           "Hertha BSC",
           32
          ],
          [
           "Bernd Leno",
           "Leverkusen",
           25
          ],
          [
           "Christian Mathenia",
           "Hamburger SV",
           25
          ],
          [
           "Jiří Pavlenka",
           "Werder Bremen",
           25
          ],
          [
           "Alexander Schwolow",
           "Freiburg",
           25
          ],
          [
           "Yann Sommer",
           "M'Gladbach",
           28
          ],
          [
           "Philipp Tschauner",
           "Hannover 96",
           31
          ],
          [
           "Sven Ulreich",
           "Bayern Munich",
           28
          ],
          [
           "Ron-Robert Zieler",
           "Stuttgart",
           28
          ]
         ],
         "hovertemplate": "xG+xA/90=%{x}<br>G+A/90=%{y}<br>90s=%{marker.size}<br>Player=%{customdata[0]}<br>Squad=%{customdata[1]}<br>Age=%{customdata[2]}<extra></extra>",
         "legendgroup": "",
         "marker": {
          "color": [
           "black",
           "red"
          ],
          "opacity": [
           1
          ],
          "size": [
           22.3,
           18.0,
           25.9,
           32.9,
           23.8,
           24.2,
           32.4,
           26.3,
           21.7,
           27.7,
           19.9,
           24.8,
           24.6,
           20.7,
           25.8,
           21.8,
           17.2,
           17.4,
           17.5,
           17.7,
           31.7,
           27.3,
           18.1,
           33.0,
           19.3,
           25.6,
           24.9,
           21.0,
           27.8,
           17.8,
           17.9,
           18.2,
           24.9,
           19.0,
           19.1,
           32.7,
           25.8,
           26.1,
           20.2,
           20.2,
           19.4,
           20.8,
           30.5,
           31.1,
           22.7,
           22.4,
           23.5,
           23.8,
           34.0,
           24.5,
           25.8,
           24.4,
           25.6,
           25.4,
           25.4,
           25.1,
           17.2,
           26.5,
           28.1,
           18.5,
           17.9,
           18.4,
           18.5,
           17.9,
           18.2,
           17.9,
           30.3,
           29.9,
           28.8,
           21.0,
           19.5,
           19.8,
           19.5,
           21.0,
           20.6,
           21.9,
           23.1,
           21.1,
           21.2,
           22.0,
           22.0,
           22.0,
           23.4,
           23.4,
           24.1,
           23.8,
           25.8,
           25.7,
           24.4,
           25.6,
           25.6,
           28.8,
           26.8,
           26.7,
           29.0,
           28.2,
           27.0,
           34.0,
           34.0,
           32.4,
           17.6,
           18.4,
           18.5,
           20.6,
           18.6,
           21.3,
           21.4,
           18.8,
           21.4,
           20.7,
           21.0,
           18.7,
           24.9,
           23.0,
           27.1,
           26.2,
           26.1,
           27.3,
           22.8,
           28.1,
           26.0,
           22.2,
           26.8,
           24.6,
           26.4,
           26.4,
           25.5,
           25.3,
           24.6,
           28.6,
           22.4,
           26.5,
           32.0,
           29.0,
           31.0,
           21.0,
           17.9,
           27.3,
           22.7,
           18.9,
           31.4,
           23.6,
           24.3,
           29.5,
           24.2,
           25.2,
           26.1,
           23.9,
           32.0,
           34.0,
           24.6,
           25.3,
           17.6,
           21.6,
           18.6,
           26.3,
           25.0,
           25.4,
           26.4,
           26.5,
           24.1,
           24.3,
           22.1,
           23.9,
           19.2,
           29.5,
           29.0,
           31.0,
           17.3,
           21.6,
           33.5,
           34.0,
           17.9,
           23.2,
           34.0,
           33.0,
           34.0,
           33.0,
           32.0,
           34.0,
           31.0,
           33.0,
           24.0,
           34.0,
           32.3,
           29.2,
           31.0,
           29.0,
           34.0
          ],
          "sizemode": "area",
          "sizeref": 0.085,
          "symbol": "circle"
         },
         "mode": "markers",
         "name": "",
         "orientation": "v",
         "showlegend": false,
         "type": "scatter",
         "x": [
          0.71,
          0.65,
          0.25,
          0.3,
          0.33,
          0.63,
          0.29,
          0.32,
          0.12,
          0.69,
          0.38,
          0.65,
          0.51,
          0.26,
          0.18,
          0.33,
          0.73,
          0.59,
          0.39,
          0.27,
          0.27,
          0.39,
          0.43,
          0.12,
          0.19,
          0.43,
          0.33,
          0.22,
          0.17,
          0.37,
          0.33,
          0.19,
          0.38,
          0.35,
          0.1,
          0.62,
          0.53,
          0.42,
          0.66,
          0.34,
          0.3,
          0.13,
          0.26,
          0.22,
          0.33,
          0.25,
          0.25,
          0.12,
          0.17,
          0.51,
          0.46,
          0.22,
          0.18,
          0.09,
          0.08,
          0.08,
          0.18,
          0.62,
          0.44,
          0.46,
          0.35,
          0.33,
          0.32,
          0.2,
          0.12,
          0.09,
          0.45,
          0.19,
          0.09,
          0.47,
          0.46,
          0.23,
          0.17,
          0.14,
          0.13,
          0.47,
          0.35,
          0.33,
          0.31,
          0.3,
          0.29,
          0.2,
          0.09,
          0.04,
          1.35,
          0.5,
          0.17,
          0.11,
          0.04,
          0.04,
          0.03,
          0.55,
          0.15,
          0.15,
          0.14,
          0.1,
          0.05,
          0.13,
          0.12,
          0.07,
          0.16,
          0.3,
          0.28,
          0.18,
          0.14,
          0.1,
          0.1,
          0.09,
          0.08,
          0.06,
          0.04,
          0.04,
          0.63,
          0.5,
          0.37,
          0.2,
          0.18,
          0.15,
          0.15,
          0.14,
          0.14,
          0.13,
          0.12,
          0.12,
          0.11,
          0.1,
          0.1,
          0.1,
          0.08,
          0.05,
          0.04,
          0.02,
          0.08,
          0.07,
          0.04,
          0.43,
          0.41,
          0.22,
          0.17,
          0.14,
          0.13,
          0.12,
          0.09,
          0.09,
          0.08,
          0.08,
          0.08,
          0.08,
          0.08,
          0.07,
          0.07,
          0.07,
          0.06,
          0.06,
          0.06,
          0.06,
          0.06,
          0.05,
          0.05,
          0.05,
          0.05,
          0.04,
          0.04,
          0.04,
          0.03,
          0.03,
          0.03,
          0.02,
          0.02,
          0.01,
          0.01,
          0.01,
          0.01,
          0.01,
          0.0,
          0.0,
          0.0,
          0.0,
          0.0,
          0.0,
          0.0,
          0.0,
          0.0,
          0.0,
          0.0,
          0.0,
          0.0,
          0.0,
          0.0
         ],
         "xaxis": "x",
         "y": [
          0.99,
          1.0,
          0.43,
          0.43,
          0.46,
          0.91,
          0.49,
          0.5,
          0.28,
          0.72,
          0.4,
          0.77,
          0.61,
          0.34,
          0.23,
          0.5,
          0.75,
          0.46,
          0.57,
          0.34,
          0.38,
          0.44,
          0.33,
          0.21,
          0.21,
          0.35,
          0.56,
          0.29,
          0.22,
          0.28,
          0.45,
          0.17,
          0.36,
          0.32,
          0.21,
          0.46,
          0.58,
          0.5,
          0.74,
          0.2,
          0.26,
          0.14,
          0.23,
          0.23,
          0.26,
          0.18,
          0.21,
          0.13,
          0.15,
          0.61,
          0.46,
          0.2,
          0.16,
          0.12,
          0.12,
          0.16,
          0.23,
          0.64,
          0.57,
          0.32,
          0.34,
          0.38,
          0.11,
          0.17,
          0.16,
          0.11,
          0.3,
          0.17,
          0.14,
          0.52,
          0.41,
          0.15,
          0.2,
          0.14,
          0.15,
          0.37,
          0.22,
          0.28,
          0.47,
          0.27,
          0.27,
          0.14,
          0.09,
          0.13,
          1.28,
          0.29,
          0.08,
          0.19,
          0.08,
          0.16,
          0.08,
          0.56,
          0.15,
          0.19,
          0.14,
          0.07,
          0.07,
          0.26,
          0.21,
          0.12,
          0.17,
          0.22,
          0.11,
          0.29,
          0.05,
          0.14,
          0.14,
          0.05,
          0.09,
          0.1,
          0.1,
          0.05,
          0.64,
          0.43,
          0.22,
          0.27,
          0.11,
          0.07,
          0.04,
          0.07,
          0.08,
          0.13,
          0.11,
          0.08,
          0.08,
          0.04,
          0.12,
          0.08,
          0.08,
          0.07,
          0.04,
          0.04,
          0.16,
          0.07,
          0.03,
          0.48,
          0.11,
          0.07,
          0.09,
          0.11,
          0.1,
          0.13,
          0.04,
          0.0,
          0.04,
          0.12,
          0.08,
          0.13,
          0.09,
          0.03,
          0.04,
          0.04,
          0.0,
          0.05,
          0.0,
          0.11,
          0.08,
          0.0,
          0.08,
          0.0,
          0.08,
          0.0,
          0.0,
          0.04,
          0.0,
          0.03,
          0.0,
          0.03,
          0.06,
          0.05,
          0.0,
          0.0,
          0.0,
          0.0,
          0.0,
          0.0,
          0.0,
          0.0,
          0.0,
          0.0,
          0.0,
          0.0,
          0.0,
          0.0,
          0.0,
          0.0,
          0.0,
          0.0,
          0.0
         ],
         "yaxis": "y"
        }
       ],
       "layout": {
        "legend": {
         "itemsizing": "constant",
         "tracegroupgap": 0
        },
        "margin": {
         "t": 60
        },
        "showlegend": false,
        "template": {
         "data": {
          "bar": [
           {
            "error_x": {
             "color": "#2a3f5f"
            },
            "error_y": {
             "color": "#2a3f5f"
            },
            "marker": {
             "line": {
              "color": "white",
              "width": 0.5
             }
            },
            "type": "bar"
           }
          ],
          "barpolar": [
           {
            "marker": {
             "line": {
              "color": "white",
              "width": 0.5
             }
            },
            "type": "barpolar"
           }
          ],
          "carpet": [
           {
            "aaxis": {
             "endlinecolor": "#2a3f5f",
             "gridcolor": "#C8D4E3",
             "linecolor": "#C8D4E3",
             "minorgridcolor": "#C8D4E3",
             "startlinecolor": "#2a3f5f"
            },
            "baxis": {
             "endlinecolor": "#2a3f5f",
             "gridcolor": "#C8D4E3",
             "linecolor": "#C8D4E3",
             "minorgridcolor": "#C8D4E3",
             "startlinecolor": "#2a3f5f"
            },
            "type": "carpet"
           }
          ],
          "choropleth": [
           {
            "colorbar": {
             "outlinewidth": 0,
             "ticks": ""
            },
            "type": "choropleth"
           }
          ],
          "contour": [
           {
            "colorbar": {
             "outlinewidth": 0,
             "ticks": ""
            },
            "colorscale": [
             [
              0.0,
              "#0d0887"
             ],
             [
              0.1111111111111111,
              "#46039f"
             ],
             [
              0.2222222222222222,
              "#7201a8"
             ],
             [
              0.3333333333333333,
              "#9c179e"
             ],
             [
              0.4444444444444444,
              "#bd3786"
             ],
             [
              0.5555555555555556,
              "#d8576b"
             ],
             [
              0.6666666666666666,
              "#ed7953"
             ],
             [
              0.7777777777777778,
              "#fb9f3a"
             ],
             [
              0.8888888888888888,
              "#fdca26"
             ],
             [
              1.0,
              "#f0f921"
             ]
            ],
            "type": "contour"
           }
          ],
          "contourcarpet": [
           {
            "colorbar": {
             "outlinewidth": 0,
             "ticks": ""
            },
            "type": "contourcarpet"
           }
          ],
          "heatmap": [
           {
            "colorbar": {
             "outlinewidth": 0,
             "ticks": ""
            },
            "colorscale": [
             [
              0.0,
              "#0d0887"
             ],
             [
              0.1111111111111111,
              "#46039f"
             ],
             [
              0.2222222222222222,
              "#7201a8"
             ],
             [
              0.3333333333333333,
              "#9c179e"
             ],
             [
              0.4444444444444444,
              "#bd3786"
             ],
             [
              0.5555555555555556,
              "#d8576b"
             ],
             [
              0.6666666666666666,
              "#ed7953"
             ],
             [
              0.7777777777777778,
              "#fb9f3a"
             ],
             [
              0.8888888888888888,
              "#fdca26"
             ],
             [
              1.0,
              "#f0f921"
             ]
            ],
            "type": "heatmap"
           }
          ],
          "heatmapgl": [
           {
            "colorbar": {
             "outlinewidth": 0,
             "ticks": ""
            },
            "colorscale": [
             [
              0.0,
              "#0d0887"
             ],
             [
              0.1111111111111111,
              "#46039f"
             ],
             [
              0.2222222222222222,
              "#7201a8"
             ],
             [
              0.3333333333333333,
              "#9c179e"
             ],
             [
              0.4444444444444444,
              "#bd3786"
             ],
             [
              0.5555555555555556,
              "#d8576b"
             ],
             [
              0.6666666666666666,
              "#ed7953"
             ],
             [
              0.7777777777777778,
              "#fb9f3a"
             ],
             [
              0.8888888888888888,
              "#fdca26"
             ],
             [
              1.0,
              "#f0f921"
             ]
            ],
            "type": "heatmapgl"
           }
          ],
          "histogram": [
           {
            "marker": {
             "colorbar": {
              "outlinewidth": 0,
              "ticks": ""
             }
            },
            "type": "histogram"
           }
          ],
          "histogram2d": [
           {
            "colorbar": {
             "outlinewidth": 0,
             "ticks": ""
            },
            "colorscale": [
             [
              0.0,
              "#0d0887"
             ],
             [
              0.1111111111111111,
              "#46039f"
             ],
             [
              0.2222222222222222,
              "#7201a8"
             ],
             [
              0.3333333333333333,
              "#9c179e"
             ],
             [
              0.4444444444444444,
              "#bd3786"
             ],
             [
              0.5555555555555556,
              "#d8576b"
             ],
             [
              0.6666666666666666,
              "#ed7953"
             ],
             [
              0.7777777777777778,
              "#fb9f3a"
             ],
             [
              0.8888888888888888,
              "#fdca26"
             ],
             [
              1.0,
              "#f0f921"
             ]
            ],
            "type": "histogram2d"
           }
          ],
          "histogram2dcontour": [
           {
            "colorbar": {
             "outlinewidth": 0,
             "ticks": ""
            },
            "colorscale": [
             [
              0.0,
              "#0d0887"
             ],
             [
              0.1111111111111111,
              "#46039f"
             ],
             [
              0.2222222222222222,
              "#7201a8"
             ],
             [
              0.3333333333333333,
              "#9c179e"
             ],
             [
              0.4444444444444444,
              "#bd3786"
             ],
             [
              0.5555555555555556,
              "#d8576b"
             ],
             [
              0.6666666666666666,
              "#ed7953"
             ],
             [
              0.7777777777777778,
              "#fb9f3a"
             ],
             [
              0.8888888888888888,
              "#fdca26"
             ],
             [
              1.0,
              "#f0f921"
             ]
            ],
            "type": "histogram2dcontour"
           }
          ],
          "mesh3d": [
           {
            "colorbar": {
             "outlinewidth": 0,
             "ticks": ""
            },
            "type": "mesh3d"
           }
          ],
          "parcoords": [
           {
            "line": {
             "colorbar": {
              "outlinewidth": 0,
              "ticks": ""
             }
            },
            "type": "parcoords"
           }
          ],
          "pie": [
           {
            "automargin": true,
            "type": "pie"
           }
          ],
          "scatter": [
           {
            "marker": {
             "colorbar": {
              "outlinewidth": 0,
              "ticks": ""
             }
            },
            "type": "scatter"
           }
          ],
          "scatter3d": [
           {
            "line": {
             "colorbar": {
              "outlinewidth": 0,
              "ticks": ""
             }
            },
            "marker": {
             "colorbar": {
              "outlinewidth": 0,
              "ticks": ""
             }
            },
            "type": "scatter3d"
           }
          ],
          "scattercarpet": [
           {
            "marker": {
             "colorbar": {
              "outlinewidth": 0,
              "ticks": ""
             }
            },
            "type": "scattercarpet"
           }
          ],
          "scattergeo": [
           {
            "marker": {
             "colorbar": {
              "outlinewidth": 0,
              "ticks": ""
             }
            },
            "type": "scattergeo"
           }
          ],
          "scattergl": [
           {
            "marker": {
             "colorbar": {
              "outlinewidth": 0,
              "ticks": ""
             }
            },
            "type": "scattergl"
           }
          ],
          "scattermapbox": [
           {
            "marker": {
             "colorbar": {
              "outlinewidth": 0,
              "ticks": ""
             }
            },
            "type": "scattermapbox"
           }
          ],
          "scatterpolar": [
           {
            "marker": {
             "colorbar": {
              "outlinewidth": 0,
              "ticks": ""
             }
            },
            "type": "scatterpolar"
           }
          ],
          "scatterpolargl": [
           {
            "marker": {
             "colorbar": {
              "outlinewidth": 0,
              "ticks": ""
             }
            },
            "type": "scatterpolargl"
           }
          ],
          "scatterternary": [
           {
            "marker": {
             "colorbar": {
              "outlinewidth": 0,
              "ticks": ""
             }
            },
            "type": "scatterternary"
           }
          ],
          "surface": [
           {
            "colorbar": {
             "outlinewidth": 0,
             "ticks": ""
            },
            "colorscale": [
             [
              0.0,
              "#0d0887"
             ],
             [
              0.1111111111111111,
              "#46039f"
             ],
             [
              0.2222222222222222,
              "#7201a8"
             ],
             [
              0.3333333333333333,
              "#9c179e"
             ],
             [
              0.4444444444444444,
              "#bd3786"
             ],
             [
              0.5555555555555556,
              "#d8576b"
             ],
             [
              0.6666666666666666,
              "#ed7953"
             ],
             [
              0.7777777777777778,
              "#fb9f3a"
             ],
             [
              0.8888888888888888,
              "#fdca26"
             ],
             [
              1.0,
              "#f0f921"
             ]
            ],
            "type": "surface"
           }
          ],
          "table": [
           {
            "cells": {
             "fill": {
              "color": "#EBF0F8"
             },
             "line": {
              "color": "white"
             }
            },
            "header": {
             "fill": {
              "color": "#C8D4E3"
             },
             "line": {
              "color": "white"
             }
            },
            "type": "table"
           }
          ]
         },
         "layout": {
          "annotationdefaults": {
           "arrowcolor": "#2a3f5f",
           "arrowhead": 0,
           "arrowwidth": 1
          },
          "autotypenumbers": "strict",
          "coloraxis": {
           "colorbar": {
            "outlinewidth": 0,
            "ticks": ""
           }
          },
          "colorscale": {
           "diverging": [
            [
             0,
             "#8e0152"
            ],
            [
             0.1,
             "#c51b7d"
            ],
            [
             0.2,
             "#de77ae"
            ],
            [
             0.3,
             "#f1b6da"
            ],
            [
             0.4,
             "#fde0ef"
            ],
            [
             0.5,
             "#f7f7f7"
            ],
            [
             0.6,
             "#e6f5d0"
            ],
            [
             0.7,
             "#b8e186"
            ],
            [
             0.8,
             "#7fbc41"
            ],
            [
             0.9,
             "#4d9221"
            ],
            [
             1,
             "#276419"
            ]
           ],
           "sequential": [
            [
             0.0,
             "#0d0887"
            ],
            [
             0.1111111111111111,
             "#46039f"
            ],
            [
             0.2222222222222222,
             "#7201a8"
            ],
            [
             0.3333333333333333,
             "#9c179e"
            ],
            [
             0.4444444444444444,
             "#bd3786"
            ],
            [
             0.5555555555555556,
             "#d8576b"
            ],
            [
             0.6666666666666666,
             "#ed7953"
            ],
            [
             0.7777777777777778,
             "#fb9f3a"
            ],
            [
             0.8888888888888888,
             "#fdca26"
            ],
            [
             1.0,
             "#f0f921"
            ]
           ],
           "sequentialminus": [
            [
             0.0,
             "#0d0887"
            ],
            [
             0.1111111111111111,
             "#46039f"
            ],
            [
             0.2222222222222222,
             "#7201a8"
            ],
            [
             0.3333333333333333,
             "#9c179e"
            ],
            [
             0.4444444444444444,
             "#bd3786"
            ],
            [
             0.5555555555555556,
             "#d8576b"
            ],
            [
             0.6666666666666666,
             "#ed7953"
            ],
            [
             0.7777777777777778,
             "#fb9f3a"
            ],
            [
             0.8888888888888888,
             "#fdca26"
            ],
            [
             1.0,
             "#f0f921"
            ]
           ]
          },
          "colorway": [
           "#636efa",
           "#EF553B",
           "#00cc96",
           "#ab63fa",
           "#FFA15A",
           "#19d3f3",
           "#FF6692",
           "#B6E880",
           "#FF97FF",
           "#FECB52"
          ],
          "font": {
           "color": "#2a3f5f"
          },
          "geo": {
           "bgcolor": "white",
           "lakecolor": "white",
           "landcolor": "white",
           "showlakes": true,
           "showland": true,
           "subunitcolor": "#C8D4E3"
          },
          "hoverlabel": {
           "align": "left"
          },
          "hovermode": "closest",
          "mapbox": {
           "style": "light"
          },
          "paper_bgcolor": "white",
          "plot_bgcolor": "white",
          "polar": {
           "angularaxis": {
            "gridcolor": "#EBF0F8",
            "linecolor": "#EBF0F8",
            "ticks": ""
           },
           "bgcolor": "white",
           "radialaxis": {
            "gridcolor": "#EBF0F8",
            "linecolor": "#EBF0F8",
            "ticks": ""
           }
          },
          "scene": {
           "xaxis": {
            "backgroundcolor": "white",
            "gridcolor": "#DFE8F3",
            "gridwidth": 2,
            "linecolor": "#EBF0F8",
            "showbackground": true,
            "ticks": "",
            "zerolinecolor": "#EBF0F8"
           },
           "yaxis": {
            "backgroundcolor": "white",
            "gridcolor": "#DFE8F3",
            "gridwidth": 2,
            "linecolor": "#EBF0F8",
            "showbackground": true,
            "ticks": "",
            "zerolinecolor": "#EBF0F8"
           },
           "zaxis": {
            "backgroundcolor": "white",
            "gridcolor": "#DFE8F3",
            "gridwidth": 2,
            "linecolor": "#EBF0F8",
            "showbackground": true,
            "ticks": "",
            "zerolinecolor": "#EBF0F8"
           }
          },
          "shapedefaults": {
           "line": {
            "color": "#2a3f5f"
           }
          },
          "ternary": {
           "aaxis": {
            "gridcolor": "#DFE8F3",
            "linecolor": "#A2B1C6",
            "ticks": ""
           },
           "baxis": {
            "gridcolor": "#DFE8F3",
            "linecolor": "#A2B1C6",
            "ticks": ""
           },
           "bgcolor": "white",
           "caxis": {
            "gridcolor": "#DFE8F3",
            "linecolor": "#A2B1C6",
            "ticks": ""
           }
          },
          "title": {
           "x": 0.05
          },
          "xaxis": {
           "automargin": true,
           "gridcolor": "#EBF0F8",
           "linecolor": "#EBF0F8",
           "ticks": "",
           "title": {
            "standoff": 15
           },
           "zerolinecolor": "#EBF0F8",
           "zerolinewidth": 2
          },
          "yaxis": {
           "automargin": true,
           "gridcolor": "#EBF0F8",
           "linecolor": "#EBF0F8",
           "ticks": "",
           "title": {
            "standoff": 15
           },
           "zerolinecolor": "#EBF0F8",
           "zerolinewidth": 2
          }
         }
        },
        "xaxis": {
         "anchor": "y",
         "domain": [
          0.0,
          1.0
         ],
         "title": {
          "text": "xG+xA/90"
         }
        },
        "yaxis": {
         "anchor": "x",
         "domain": [
          0.0,
          1.0
         ],
         "title": {
          "text": "G+A/90"
         }
        }
       }
      },
      "text/html": [
       "<div>                            <div id=\"5a26db9b-d212-46b1-b3b2-ff6249e4ca6b\" class=\"plotly-graph-div\" style=\"height:525px; width:100%;\"></div>            <script type=\"text/javascript\">                require([\"plotly\"], function(Plotly) {                    window.PLOTLYENV=window.PLOTLYENV || {};                                    if (document.getElementById(\"5a26db9b-d212-46b1-b3b2-ff6249e4ca6b\")) {                    Plotly.newPlot(                        \"5a26db9b-d212-46b1-b3b2-ff6249e4ca6b\",                        [{\"customdata\": [[\"Thomas M\\u00fcller\", \"Bayern Munich\", 27], [\"James Rodr\\u00edguez\", \"Bayern Munich\", 26], [\"Joshua Kimmich\", \"Bayern Munich\", 22], [\"Philipp Max\", \"Augsburg\", 23], [\"Kai Havertz\", \"Leverkusen\", 18], [\"Mark Uth\", \"Hoffenheim\", 25], [\"Daniel Caligiuri\", \"Schalke 04\", 29], [\"Marius Wolf\", \"Eint Frankfurt\", 22], [\"Dennis Aogo\", \"Stuttgart\", 30], [\"Timo Werner\", \"RB Leipzig\", 21], [\"Marcel Sabitzer\", \"RB Leipzig\", 23], [\"Andrej Kramari\\u0107\", \"Hoffenheim\", 26], [\"Leon Bailey\", \"Leverkusen\", 19], [\"Valentino Lazaro\", \"Hertha BSC\", 21], [\"Pirmin Schwegler\", \"Hannover 96\", 30], [\"Naby Ke\\u00efta\", \"RB Leipzig\", 22], [\"Lucas Alario\", \"Leverkusen\", 24], [\"Yevhen Konoplyanka\", \"Schalke 04\", 27], [\"Corentin Tolisso\", \"Bayern Munich\", 22], [\"Lars Bender\", \"Leverkusen\", 28], [\"Caiuby\", \"Augsburg\", 29], [\"Max Kruse\", \"Werder Bremen\", 29], [\"Zlatko Junuzovi\\u0107\", \"Werder Bremen\", 29], [\"Marvin Plattenhardt\", \"Hertha BSC\", 25], [\"Levin \\u00d6ztunal\\u0131\", \"Mainz 05\", 21], [\"Christian Pulisic\", \"Dortmund\", 18], [\"Daniel Didavi\", \"Wolfsburg\", 27], [\"Timothy Chandler\", \"Eint Frankfurt\", 27], [\"Daniel Brosinski\", \"Mainz 05\", 29], [\"Mario G\\u00f6tze\", \"Dortmund\", 25], [\"Leonardo Bittencourt\", \"K\\u00f6ln\", 23], [\"Vladim\\u00edr Darida\", \"Hertha BSC\", 26], [\"Yunus Mall\\u0131\", \"Wolfsburg\", 25], [\"Florian Kainz\", \"Werder Bremen\", 24], [\"Panagiotis Retsos\", \"Leverkusen\", 18], [\"Thorgan Hazard\", \"M'Gladbach\", 24], [\"Guido Burgstaller\", \"Schalke 04\", 28], [\"S\\u00e9bastien Haller\", \"Eint Frankfurt\", 23], [\"Alfre\\u00f0 Finnbogason\", \"Augsburg\", 28], [\"Mijat Ga\\u0107inovi\\u0107\", \"Eint Frankfurt\", 22], [\"Nadiem Amiri\", \"Hoffenheim\", 20], [\"Dennis Diekmeier\", \"Hamburger SV\", 27], [\"Janik Haberer\", \"Freiburg\", 23], [\"Thomas Delaney\", \"Werder Bremen\", 25], [\"Amine Harit\", \"Schalke 04\", 20], [\"Kevin Kampl\", \"RB Leipzig\", 26], [\"Wendell\", \"Leverkusen\", 24], [\"\\u0141ukasz Piszczek\", \"Dortmund\", 32], [\"Christian G\\u00fcnter\", \"Freiburg\", 24], [\"Salomon Kalou\", \"Hertha BSC\", 31], [\"Julian Brandt\", \"Leverkusen\", 21], [\"Pavel Kade\\u0159\\u00e1bek\", \"Hoffenheim\", 25], [\"Charles Ar\\u00e1nguiz\", \"Leverkusen\", 28], [\"Diego Demme\", \"RB Leipzig\", 25], [\"Giulio Donati\", \"Mainz 05\", 27], [\"Nicolas H\\u00f6fler\", \"Freiburg\", 27], [\"David Alaba\", \"Bayern Munich\", 25], [\"Niclas F\\u00fcllkrug\", \"Hannover 96\", 24], [\"Michael Gregoritsch\", \"Augsburg\", 23], [\"Yussuf Poulsen\", \"RB Leipzig\", 23], [\"Bruma\", \"RB Leipzig\", 22], [\"Pablo de Blasis\", \"Mainz 05\", 29], [\"Jetro Willems\", \"Eint Frankfurt\", 23], [\"Javi Mart\\u00ednez\", \"Bayern Munich\", 28], [\"J\\u00e9r\\u00f4me Boateng\", \"Bayern Munich\", 28], [\"William\", \"Wolfsburg\", 22], [\"Lars Stindl\", \"M'Gladbach\", 28], [\"Maximilian Eggestein\", \"Werder Bremen\", 20], [\"Jean-Philippe Gbamin\", \"Mainz 05\", 21], [\"Martin Harnik\", \"Hannover 96\", 30], [\"Ante Rebi\\u0107\", \"Eint Frankfurt\", 23], [\"Nico Schulz\", \"Hoffenheim\", 24], [\"Jonas Hector\", \"K\\u00f6ln\", 27], [\"Florian Grillitsch\", \"Hoffenheim\", 21], [\"Rafinha\", \"Bayern Munich\", 31], [\"Divock Origi\", \"Wolfsburg\", 22], [\"Aaron Hunt\", \"Hamburger SV\", 30], [\"Yuya Osako\", \"K\\u00f6ln\", 27], [\"Yoshinori Mut\\u014d\", \"Mainz 05\", 25], [\"Felix Klaus\", \"Hannover 96\", 24], [\"Leon Goretzka\", \"Schalke 04\", 22], [\"Mitchell Weiser\", \"Hertha BSC\", 23], [\"Emiliano Ins\\u00faa\", \"Stuttgart\", 28], [\"Robin Knoche\", \"Wolfsburg\", 25], [\"Robert Lewandowski\", \"Bayern Munich\", 28], [\"Ihlas Bebou\", \"Hannover 96\", 23], [\"Bastian Oczipka\", \"Schalke 04\", 28], [\"Benjamin H\\u00fcbner\", \"Hoffenheim\", 28], [\"Benjamin Stambouli\", \"Schalke 04\", 26], [\"Karim Rekik\", \"Hertha BSC\", 22], [\"David Abraham\", \"Eint Frankfurt\", 31], [\"Kevin Volland\", \"Leverkusen\", 25], [\"Christian Gentner\", \"Stuttgart\", 31], [\"Josuha Guilavogui\", \"Wolfsburg\", 26], [\"Paul Verhaegh\", \"Wolfsburg\", 33], [\"Daniel Baier\", \"Augsburg\", 33], [\"Jonathan Tah\", \"Leverkusen\", 21], [\"Naldo\", \"Schalke 04\", 34], [\"Matthias Ginter\", \"M'Gladbach\", 23], [\"Nico Elvedi\", \"M'Gladbach\", 20], [\"Dennis Geiger\", \"Hoffenheim\", 19], [\"Franco Di Santo\", \"Schalke 04\", 28], [\"Dominik Kohr\", \"Leverkusen\", 23], [\"Mathew Leckie\", \"Hertha BSC\", 26], [\"Salih \\u00d6zcan\", \"K\\u00f6ln\", 19], [\"Robin Koch\", \"Freiburg\", 21], [\"Niklas S\\u00fcle\", \"Bayern Munich\", 21], [\"Kevin Akpoguma\", \"Hoffenheim\", 22], [\"Andreas Beck\", \"Stuttgart\", 30], [\"Philipp Bargfrede\", \"Werder Bremen\", 28], [\"Jorge Mer\\u00e9\", \"K\\u00f6ln\", 20], [\"Oliver Sorg\", \"Hannover 96\", 27], [\"Nils Petersen\", \"Freiburg\", 28], [\"Raffael\", \"M'Gladbach\", 32], [\"Filip Kosti\\u0107\", \"Hamburger SV\", 24], [\"Kevin-Prince Boateng\", \"Eint Frankfurt\", 30], [\"Danny Latza\", \"Mainz 05\", 27], [\"Oscar Wendt\", \"M'Gladbach\", 31], [\"Marvin Bakalorz\", \"Hannover 96\", 27], [\"Ludwig Augustinsson\", \"Werder Bremen\", 23], [\"Julian Korb\", \"Hannover 96\", 25], [\"Frederik S\\u00f8rensen\", \"K\\u00f6ln\", 25], [\"Abdou Diallo\", \"Mainz 05\", 21], [\"Mats Hummels\", \"Bayern Munich\", 28], [\"Douglas Santos\", \"Hamburger SV\", 23], [\"Matthias Ostrzolek\", \"Hannover 96\", 27], [\"Denis Zakaria\", \"M'Gladbach\", 20], [\"Rani Khedira\", \"Augsburg\", 23], [\"Niklas Stark\", \"Hertha BSC\", 22], [\"Gideon Jung\", \"Hamburger SV\", 22], [\"\\u00d6mer Toprak\", \"Dortmund\", 28], [\"Santiago Ascac\\u00edbar\", \"Stuttgart\", 20], [\"Salif San\\u00e9\", \"Hannover 96\", 26], [\"Kyriakos Papadopoulos\", \"Hamburger SV\", 25], [\"Kevin Vogt\", \"Hoffenheim\", 25], [\"Davie Selke\", \"Hertha BSC\", 22], [\"Bobby Wood\", \"Hamburger SV\", 24], [\"Maximilian Arnold\", \"Wolfsburg\", 23], [\"Koo Ja-cheol\", \"Augsburg\", 28], [\"Suat Serdar\", \"Mainz 05\", 20], [\"Theodor Gebre Selassie\", \"Werder Bremen\", 30], [\"Willi Orban\", \"RB Leipzig\", 24], [\"Lukas Klostermann\", \"RB Leipzig\", 21], [\"Martin Hinteregger\", \"Augsburg\", 24], [\"Stefan Bell\", \"Mainz 05\", 25], [\"Dayot Upamecano\", \"RB Leipzig\", 18], [\"Sven Bender\", \"Leverkusen\", 28], [\"Christoph Kramer\", \"M'Gladbach\", 26], [\"Jannik Vestergaard\", \"M'Gladbach\", 24], [\"Benjamin Pavard\", \"Stuttgart\", 21], [\"Simon Falette\", \"Eint Frankfurt\", 25], [\"Waldemar Anton\", \"Hannover 96\", 21], [\"Fabian Lustenberger\", \"Hertha BSC\", 29], [\"Pascal Stenzel\", \"Freiburg\", 21], [\"Marco H\\u00f6ger\", \"K\\u00f6ln\", 27], [\"Thilo Kehrer\", \"Schalke 04\", 20], [\"Niklas Moisander\", \"Werder Bremen\", 31], [\"G\\u014dtoku Sakai\", \"Hamburger SV\", 26], [\"Sokratis Papastathopoulos\", \"Dortmund\", 29], [\"Jeffrey Gouweleeuw\", \"Augsburg\", 26], [\"Holger Badstuber\", \"Stuttgart\", 28], [\"Per Ciljan Skjelbred\", \"Hertha BSC\", 30], [\"Matija Nastasi\\u0107\", \"Schalke 04\", 24], [\"\\u00c7a\\u011flar S\\u00f6y\\u00fcnc\\u00fc\", \"Freiburg\", 21], [\"Max Meyer\", \"Schalke 04\", 21], [\"Milo\\u0161 Veljkovi\\u0107\", \"Werder Bremen\", 21], [\"Timo Baumgartl\", \"Stuttgart\", 21], [\"Dominique Heintz\", \"K\\u00f6ln\", 23], [\"Ohis Felix Uduokhai\", \"Wolfsburg\", 19], [\"Julian Weigl\", \"Dortmund\", 21], [\"Ralf F\\u00e4hrmann\", \"Schalke 04\", 28], [\"Timo Horn\", \"K\\u00f6ln\", 24], [\"Carlos Salcedo\", \"Eint Frankfurt\", 23], [\"Makoto Hasebe\", \"Eint Frankfurt\", 33], [\"Oliver Baumann\", \"Hoffenheim\", 27], [\"Roman B\\u00fcrki\", \"Dortmund\", 26], [\"Koen Casteels\", \"Wolfsburg\", 25], [\"P\\u00e9ter Gul\\u00e1csi\", \"RB Leipzig\", 27], [\"Marwin Hitz\", \"Augsburg\", 29], [\"Luk\\u00e1\\u0161 Hr\\u00e1deck\\u00fd\", \"Eint Frankfurt\", 27], [\"Rune Jarstein\", \"Hertha BSC\", 32], [\"Bernd Leno\", \"Leverkusen\", 25], [\"Christian Mathenia\", \"Hamburger SV\", 25], [\"Ji\\u0159\\u00ed Pavlenka\", \"Werder Bremen\", 25], [\"Alexander Schwolow\", \"Freiburg\", 25], [\"Yann Sommer\", \"M'Gladbach\", 28], [\"Philipp Tschauner\", \"Hannover 96\", 31], [\"Sven Ulreich\", \"Bayern Munich\", 28], [\"Ron-Robert Zieler\", \"Stuttgart\", 28]], \"hovertemplate\": \"xG+xA/90=%{x}<br>G+A/90=%{y}<br>90s=%{marker.size}<br>Player=%{customdata[0]}<br>Squad=%{customdata[1]}<br>Age=%{customdata[2]}<extra></extra>\", \"legendgroup\": \"\", \"marker\": {\"color\": [\"black\", \"red\"], \"opacity\": [1], \"size\": [22.3, 18.0, 25.9, 32.9, 23.8, 24.2, 32.4, 26.3, 21.7, 27.7, 19.9, 24.8, 24.6, 20.7, 25.8, 21.8, 17.2, 17.4, 17.5, 17.7, 31.7, 27.3, 18.1, 33.0, 19.3, 25.6, 24.9, 21.0, 27.8, 17.8, 17.9, 18.2, 24.9, 19.0, 19.1, 32.7, 25.8, 26.1, 20.2, 20.2, 19.4, 20.8, 30.5, 31.1, 22.7, 22.4, 23.5, 23.8, 34.0, 24.5, 25.8, 24.4, 25.6, 25.4, 25.4, 25.1, 17.2, 26.5, 28.1, 18.5, 17.9, 18.4, 18.5, 17.9, 18.2, 17.9, 30.3, 29.9, 28.8, 21.0, 19.5, 19.8, 19.5, 21.0, 20.6, 21.9, 23.1, 21.1, 21.2, 22.0, 22.0, 22.0, 23.4, 23.4, 24.1, 23.8, 25.8, 25.7, 24.4, 25.6, 25.6, 28.8, 26.8, 26.7, 29.0, 28.2, 27.0, 34.0, 34.0, 32.4, 17.6, 18.4, 18.5, 20.6, 18.6, 21.3, 21.4, 18.8, 21.4, 20.7, 21.0, 18.7, 24.9, 23.0, 27.1, 26.2, 26.1, 27.3, 22.8, 28.1, 26.0, 22.2, 26.8, 24.6, 26.4, 26.4, 25.5, 25.3, 24.6, 28.6, 22.4, 26.5, 32.0, 29.0, 31.0, 21.0, 17.9, 27.3, 22.7, 18.9, 31.4, 23.6, 24.3, 29.5, 24.2, 25.2, 26.1, 23.9, 32.0, 34.0, 24.6, 25.3, 17.6, 21.6, 18.6, 26.3, 25.0, 25.4, 26.4, 26.5, 24.1, 24.3, 22.1, 23.9, 19.2, 29.5, 29.0, 31.0, 17.3, 21.6, 33.5, 34.0, 17.9, 23.2, 34.0, 33.0, 34.0, 33.0, 32.0, 34.0, 31.0, 33.0, 24.0, 34.0, 32.3, 29.2, 31.0, 29.0, 34.0], \"sizemode\": \"area\", \"sizeref\": 0.085, \"symbol\": \"circle\"}, \"mode\": \"markers\", \"name\": \"\", \"orientation\": \"v\", \"showlegend\": false, \"type\": \"scatter\", \"x\": [0.71, 0.65, 0.25, 0.3, 0.33, 0.63, 0.29, 0.32, 0.12, 0.69, 0.38, 0.65, 0.51, 0.26, 0.18, 0.33, 0.73, 0.59, 0.39, 0.27, 0.27, 0.39, 0.43, 0.12, 0.19, 0.43, 0.33, 0.22, 0.17, 0.37, 0.33, 0.19, 0.38, 0.35, 0.1, 0.62, 0.53, 0.42, 0.66, 0.34, 0.3, 0.13, 0.26, 0.22, 0.33, 0.25, 0.25, 0.12, 0.17, 0.51, 0.46, 0.22, 0.18, 0.09, 0.08, 0.08, 0.18, 0.62, 0.44, 0.46, 0.35, 0.33, 0.32, 0.2, 0.12, 0.09, 0.45, 0.19, 0.09, 0.47, 0.46, 0.23, 0.17, 0.14, 0.13, 0.47, 0.35, 0.33, 0.31, 0.3, 0.29, 0.2, 0.09, 0.04, 1.35, 0.5, 0.17, 0.11, 0.04, 0.04, 0.03, 0.55, 0.15, 0.15, 0.14, 0.1, 0.05, 0.13, 0.12, 0.07, 0.16, 0.3, 0.28, 0.18, 0.14, 0.1, 0.1, 0.09, 0.08, 0.06, 0.04, 0.04, 0.63, 0.5, 0.37, 0.2, 0.18, 0.15, 0.15, 0.14, 0.14, 0.13, 0.12, 0.12, 0.11, 0.1, 0.1, 0.1, 0.08, 0.05, 0.04, 0.02, 0.08, 0.07, 0.04, 0.43, 0.41, 0.22, 0.17, 0.14, 0.13, 0.12, 0.09, 0.09, 0.08, 0.08, 0.08, 0.08, 0.08, 0.07, 0.07, 0.07, 0.06, 0.06, 0.06, 0.06, 0.06, 0.05, 0.05, 0.05, 0.05, 0.04, 0.04, 0.04, 0.03, 0.03, 0.03, 0.02, 0.02, 0.01, 0.01, 0.01, 0.01, 0.01, 0.0, 0.0, 0.0, 0.0, 0.0, 0.0, 0.0, 0.0, 0.0, 0.0, 0.0, 0.0, 0.0, 0.0, 0.0], \"xaxis\": \"x\", \"y\": [0.99, 1.0, 0.43, 0.43, 0.46, 0.91, 0.49, 0.5, 0.28, 0.72, 0.4, 0.77, 0.61, 0.34, 0.23, 0.5, 0.75, 0.46, 0.57, 0.34, 0.38, 0.44, 0.33, 0.21, 0.21, 0.35, 0.56, 0.29, 0.22, 0.28, 0.45, 0.17, 0.36, 0.32, 0.21, 0.46, 0.58, 0.5, 0.74, 0.2, 0.26, 0.14, 0.23, 0.23, 0.26, 0.18, 0.21, 0.13, 0.15, 0.61, 0.46, 0.2, 0.16, 0.12, 0.12, 0.16, 0.23, 0.64, 0.57, 0.32, 0.34, 0.38, 0.11, 0.17, 0.16, 0.11, 0.3, 0.17, 0.14, 0.52, 0.41, 0.15, 0.2, 0.14, 0.15, 0.37, 0.22, 0.28, 0.47, 0.27, 0.27, 0.14, 0.09, 0.13, 1.28, 0.29, 0.08, 0.19, 0.08, 0.16, 0.08, 0.56, 0.15, 0.19, 0.14, 0.07, 0.07, 0.26, 0.21, 0.12, 0.17, 0.22, 0.11, 0.29, 0.05, 0.14, 0.14, 0.05, 0.09, 0.1, 0.1, 0.05, 0.64, 0.43, 0.22, 0.27, 0.11, 0.07, 0.04, 0.07, 0.08, 0.13, 0.11, 0.08, 0.08, 0.04, 0.12, 0.08, 0.08, 0.07, 0.04, 0.04, 0.16, 0.07, 0.03, 0.48, 0.11, 0.07, 0.09, 0.11, 0.1, 0.13, 0.04, 0.0, 0.04, 0.12, 0.08, 0.13, 0.09, 0.03, 0.04, 0.04, 0.0, 0.05, 0.0, 0.11, 0.08, 0.0, 0.08, 0.0, 0.08, 0.0, 0.0, 0.04, 0.0, 0.03, 0.0, 0.03, 0.06, 0.05, 0.0, 0.0, 0.0, 0.0, 0.0, 0.0, 0.0, 0.0, 0.0, 0.0, 0.0, 0.0, 0.0, 0.0, 0.0, 0.0, 0.0, 0.0, 0.0], \"yaxis\": \"y\"}],                        {\"legend\": {\"itemsizing\": \"constant\", \"tracegroupgap\": 0}, \"margin\": {\"t\": 60}, \"showlegend\": false, \"template\": {\"data\": {\"bar\": [{\"error_x\": {\"color\": \"#2a3f5f\"}, \"error_y\": {\"color\": \"#2a3f5f\"}, \"marker\": {\"line\": {\"color\": \"white\", \"width\": 0.5}}, \"type\": \"bar\"}], \"barpolar\": [{\"marker\": {\"line\": {\"color\": \"white\", \"width\": 0.5}}, \"type\": \"barpolar\"}], \"carpet\": [{\"aaxis\": {\"endlinecolor\": \"#2a3f5f\", \"gridcolor\": \"#C8D4E3\", \"linecolor\": \"#C8D4E3\", \"minorgridcolor\": \"#C8D4E3\", \"startlinecolor\": \"#2a3f5f\"}, \"baxis\": {\"endlinecolor\": \"#2a3f5f\", \"gridcolor\": \"#C8D4E3\", \"linecolor\": \"#C8D4E3\", \"minorgridcolor\": \"#C8D4E3\", \"startlinecolor\": \"#2a3f5f\"}, \"type\": \"carpet\"}], \"choropleth\": [{\"colorbar\": {\"outlinewidth\": 0, \"ticks\": \"\"}, \"type\": \"choropleth\"}], \"contour\": [{\"colorbar\": {\"outlinewidth\": 0, \"ticks\": \"\"}, \"colorscale\": [[0.0, \"#0d0887\"], [0.1111111111111111, \"#46039f\"], [0.2222222222222222, \"#7201a8\"], [0.3333333333333333, \"#9c179e\"], [0.4444444444444444, \"#bd3786\"], [0.5555555555555556, \"#d8576b\"], [0.6666666666666666, \"#ed7953\"], [0.7777777777777778, \"#fb9f3a\"], [0.8888888888888888, \"#fdca26\"], [1.0, \"#f0f921\"]], \"type\": \"contour\"}], \"contourcarpet\": [{\"colorbar\": {\"outlinewidth\": 0, \"ticks\": \"\"}, \"type\": \"contourcarpet\"}], \"heatmap\": [{\"colorbar\": {\"outlinewidth\": 0, \"ticks\": \"\"}, \"colorscale\": [[0.0, \"#0d0887\"], [0.1111111111111111, \"#46039f\"], [0.2222222222222222, \"#7201a8\"], [0.3333333333333333, \"#9c179e\"], [0.4444444444444444, \"#bd3786\"], [0.5555555555555556, \"#d8576b\"], [0.6666666666666666, \"#ed7953\"], [0.7777777777777778, \"#fb9f3a\"], [0.8888888888888888, \"#fdca26\"], [1.0, \"#f0f921\"]], \"type\": \"heatmap\"}], \"heatmapgl\": [{\"colorbar\": {\"outlinewidth\": 0, \"ticks\": \"\"}, \"colorscale\": [[0.0, \"#0d0887\"], [0.1111111111111111, \"#46039f\"], [0.2222222222222222, \"#7201a8\"], [0.3333333333333333, \"#9c179e\"], [0.4444444444444444, \"#bd3786\"], [0.5555555555555556, \"#d8576b\"], [0.6666666666666666, \"#ed7953\"], [0.7777777777777778, \"#fb9f3a\"], [0.8888888888888888, \"#fdca26\"], [1.0, \"#f0f921\"]], \"type\": \"heatmapgl\"}], \"histogram\": [{\"marker\": {\"colorbar\": {\"outlinewidth\": 0, \"ticks\": \"\"}}, \"type\": \"histogram\"}], \"histogram2d\": [{\"colorbar\": {\"outlinewidth\": 0, \"ticks\": \"\"}, \"colorscale\": [[0.0, \"#0d0887\"], [0.1111111111111111, \"#46039f\"], [0.2222222222222222, \"#7201a8\"], [0.3333333333333333, \"#9c179e\"], [0.4444444444444444, \"#bd3786\"], [0.5555555555555556, \"#d8576b\"], [0.6666666666666666, \"#ed7953\"], [0.7777777777777778, \"#fb9f3a\"], [0.8888888888888888, \"#fdca26\"], [1.0, \"#f0f921\"]], \"type\": \"histogram2d\"}], \"histogram2dcontour\": [{\"colorbar\": {\"outlinewidth\": 0, \"ticks\": \"\"}, \"colorscale\": [[0.0, \"#0d0887\"], [0.1111111111111111, \"#46039f\"], [0.2222222222222222, \"#7201a8\"], [0.3333333333333333, \"#9c179e\"], [0.4444444444444444, \"#bd3786\"], [0.5555555555555556, \"#d8576b\"], [0.6666666666666666, \"#ed7953\"], [0.7777777777777778, \"#fb9f3a\"], [0.8888888888888888, \"#fdca26\"], [1.0, \"#f0f921\"]], \"type\": \"histogram2dcontour\"}], \"mesh3d\": [{\"colorbar\": {\"outlinewidth\": 0, \"ticks\": \"\"}, \"type\": \"mesh3d\"}], \"parcoords\": [{\"line\": {\"colorbar\": {\"outlinewidth\": 0, \"ticks\": \"\"}}, \"type\": \"parcoords\"}], \"pie\": [{\"automargin\": true, \"type\": \"pie\"}], \"scatter\": [{\"marker\": {\"colorbar\": {\"outlinewidth\": 0, \"ticks\": \"\"}}, \"type\": \"scatter\"}], \"scatter3d\": [{\"line\": {\"colorbar\": {\"outlinewidth\": 0, \"ticks\": \"\"}}, \"marker\": {\"colorbar\": {\"outlinewidth\": 0, \"ticks\": \"\"}}, \"type\": \"scatter3d\"}], \"scattercarpet\": [{\"marker\": {\"colorbar\": {\"outlinewidth\": 0, \"ticks\": \"\"}}, \"type\": \"scattercarpet\"}], \"scattergeo\": [{\"marker\": {\"colorbar\": {\"outlinewidth\": 0, \"ticks\": \"\"}}, \"type\": \"scattergeo\"}], \"scattergl\": [{\"marker\": {\"colorbar\": {\"outlinewidth\": 0, \"ticks\": \"\"}}, \"type\": \"scattergl\"}], \"scattermapbox\": [{\"marker\": {\"colorbar\": {\"outlinewidth\": 0, \"ticks\": \"\"}}, \"type\": \"scattermapbox\"}], \"scatterpolar\": [{\"marker\": {\"colorbar\": {\"outlinewidth\": 0, \"ticks\": \"\"}}, \"type\": \"scatterpolar\"}], \"scatterpolargl\": [{\"marker\": {\"colorbar\": {\"outlinewidth\": 0, \"ticks\": \"\"}}, \"type\": \"scatterpolargl\"}], \"scatterternary\": [{\"marker\": {\"colorbar\": {\"outlinewidth\": 0, \"ticks\": \"\"}}, \"type\": \"scatterternary\"}], \"surface\": [{\"colorbar\": {\"outlinewidth\": 0, \"ticks\": \"\"}, \"colorscale\": [[0.0, \"#0d0887\"], [0.1111111111111111, \"#46039f\"], [0.2222222222222222, \"#7201a8\"], [0.3333333333333333, \"#9c179e\"], [0.4444444444444444, \"#bd3786\"], [0.5555555555555556, \"#d8576b\"], [0.6666666666666666, \"#ed7953\"], [0.7777777777777778, \"#fb9f3a\"], [0.8888888888888888, \"#fdca26\"], [1.0, \"#f0f921\"]], \"type\": \"surface\"}], \"table\": [{\"cells\": {\"fill\": {\"color\": \"#EBF0F8\"}, \"line\": {\"color\": \"white\"}}, \"header\": {\"fill\": {\"color\": \"#C8D4E3\"}, \"line\": {\"color\": \"white\"}}, \"type\": \"table\"}]}, \"layout\": {\"annotationdefaults\": {\"arrowcolor\": \"#2a3f5f\", \"arrowhead\": 0, \"arrowwidth\": 1}, \"autotypenumbers\": \"strict\", \"coloraxis\": {\"colorbar\": {\"outlinewidth\": 0, \"ticks\": \"\"}}, \"colorscale\": {\"diverging\": [[0, \"#8e0152\"], [0.1, \"#c51b7d\"], [0.2, \"#de77ae\"], [0.3, \"#f1b6da\"], [0.4, \"#fde0ef\"], [0.5, \"#f7f7f7\"], [0.6, \"#e6f5d0\"], [0.7, \"#b8e186\"], [0.8, \"#7fbc41\"], [0.9, \"#4d9221\"], [1, \"#276419\"]], \"sequential\": [[0.0, \"#0d0887\"], [0.1111111111111111, \"#46039f\"], [0.2222222222222222, \"#7201a8\"], [0.3333333333333333, \"#9c179e\"], [0.4444444444444444, \"#bd3786\"], [0.5555555555555556, \"#d8576b\"], [0.6666666666666666, \"#ed7953\"], [0.7777777777777778, \"#fb9f3a\"], [0.8888888888888888, \"#fdca26\"], [1.0, \"#f0f921\"]], \"sequentialminus\": [[0.0, \"#0d0887\"], [0.1111111111111111, \"#46039f\"], [0.2222222222222222, \"#7201a8\"], [0.3333333333333333, \"#9c179e\"], [0.4444444444444444, \"#bd3786\"], [0.5555555555555556, \"#d8576b\"], [0.6666666666666666, \"#ed7953\"], [0.7777777777777778, \"#fb9f3a\"], [0.8888888888888888, \"#fdca26\"], [1.0, \"#f0f921\"]]}, \"colorway\": [\"#636efa\", \"#EF553B\", \"#00cc96\", \"#ab63fa\", \"#FFA15A\", \"#19d3f3\", \"#FF6692\", \"#B6E880\", \"#FF97FF\", \"#FECB52\"], \"font\": {\"color\": \"#2a3f5f\"}, \"geo\": {\"bgcolor\": \"white\", \"lakecolor\": \"white\", \"landcolor\": \"white\", \"showlakes\": true, \"showland\": true, \"subunitcolor\": \"#C8D4E3\"}, \"hoverlabel\": {\"align\": \"left\"}, \"hovermode\": \"closest\", \"mapbox\": {\"style\": \"light\"}, \"paper_bgcolor\": \"white\", \"plot_bgcolor\": \"white\", \"polar\": {\"angularaxis\": {\"gridcolor\": \"#EBF0F8\", \"linecolor\": \"#EBF0F8\", \"ticks\": \"\"}, \"bgcolor\": \"white\", \"radialaxis\": {\"gridcolor\": \"#EBF0F8\", \"linecolor\": \"#EBF0F8\", \"ticks\": \"\"}}, \"scene\": {\"xaxis\": {\"backgroundcolor\": \"white\", \"gridcolor\": \"#DFE8F3\", \"gridwidth\": 2, \"linecolor\": \"#EBF0F8\", \"showbackground\": true, \"ticks\": \"\", \"zerolinecolor\": \"#EBF0F8\"}, \"yaxis\": {\"backgroundcolor\": \"white\", \"gridcolor\": \"#DFE8F3\", \"gridwidth\": 2, \"linecolor\": \"#EBF0F8\", \"showbackground\": true, \"ticks\": \"\", \"zerolinecolor\": \"#EBF0F8\"}, \"zaxis\": {\"backgroundcolor\": \"white\", \"gridcolor\": \"#DFE8F3\", \"gridwidth\": 2, \"linecolor\": \"#EBF0F8\", \"showbackground\": true, \"ticks\": \"\", \"zerolinecolor\": \"#EBF0F8\"}}, \"shapedefaults\": {\"line\": {\"color\": \"#2a3f5f\"}}, \"ternary\": {\"aaxis\": {\"gridcolor\": \"#DFE8F3\", \"linecolor\": \"#A2B1C6\", \"ticks\": \"\"}, \"baxis\": {\"gridcolor\": \"#DFE8F3\", \"linecolor\": \"#A2B1C6\", \"ticks\": \"\"}, \"bgcolor\": \"white\", \"caxis\": {\"gridcolor\": \"#DFE8F3\", \"linecolor\": \"#A2B1C6\", \"ticks\": \"\"}}, \"title\": {\"x\": 0.05}, \"xaxis\": {\"automargin\": true, \"gridcolor\": \"#EBF0F8\", \"linecolor\": \"#EBF0F8\", \"ticks\": \"\", \"title\": {\"standoff\": 15}, \"zerolinecolor\": \"#EBF0F8\", \"zerolinewidth\": 2}, \"yaxis\": {\"automargin\": true, \"gridcolor\": \"#EBF0F8\", \"linecolor\": \"#EBF0F8\", \"ticks\": \"\", \"title\": {\"standoff\": 15}, \"zerolinecolor\": \"#EBF0F8\", \"zerolinewidth\": 2}}}, \"xaxis\": {\"anchor\": \"y\", \"domain\": [0.0, 1.0], \"title\": {\"text\": \"xG+xA/90\"}}, \"yaxis\": {\"anchor\": \"x\", \"domain\": [0.0, 1.0], \"title\": {\"text\": \"G+A/90\"}}},                        {\"responsive\": true}                    ).then(function(){\n",
       "                            \n",
       "var gd = document.getElementById('5a26db9b-d212-46b1-b3b2-ff6249e4ca6b');\n",
       "var x = new MutationObserver(function (mutations, observer) {{\n",
       "        var display = window.getComputedStyle(gd).display;\n",
       "        if (!display || display === 'none') {{\n",
       "            console.log([gd, 'removed!']);\n",
       "            Plotly.purge(gd);\n",
       "            observer.disconnect();\n",
       "        }}\n",
       "}});\n",
       "\n",
       "// Listen for the removal of the full notebook cells\n",
       "var notebookContainer = gd.closest('#notebook-container');\n",
       "if (notebookContainer) {{\n",
       "    x.observe(notebookContainer, {childList: true});\n",
       "}}\n",
       "\n",
       "// Listen for the clearing of the current output cell\n",
       "var outputEl = gd.closest('.output');\n",
       "if (outputEl) {{\n",
       "    x.observe(outputEl, {childList: true});\n",
       "}}\n",
       "\n",
       "                        })                };                });            </script>        </div>"
      ]
     },
     "metadata": {},
     "output_type": "display_data"
    }
   ],
   "source": [
    "import plotly.express as px\n",
    "from plotly.offline import plot, iplot, init_notebook_mode\n",
    "import plotly.graph_objs as go\n",
    "init_notebook_mode(connected=True)\n",
    "fig = px.scatter(bundesliga[bundesliga['90s'] > 17] , x = 'xG+xA/90' , y='G+A/90',\n",
    "                 opacity=[1], \n",
    "                 #range_x = (17,37),range_y=(0,400000),\n",
    "                 size='90s',\n",
    "                 template = 'plotly_white' , hover_data=['Player','Squad' ,'Age'])\n",
    "fig.update_traces(marker = dict(color=['black','red']))\n",
    "fig.layout.showlegend=False\n",
    "fig.show()\n",
    "fig.write_html(\"./james.html\")"
   ]
  }
 ],
 "metadata": {
  "kernelspec": {
   "display_name": "Python 3",
   "language": "python",
   "name": "python3"
  },
  "language_info": {
   "codemirror_mode": {
    "name": "ipython",
    "version": 3
   },
   "file_extension": ".py",
   "mimetype": "text/x-python",
   "name": "python",
   "nbconvert_exporter": "python",
   "pygments_lexer": "ipython3",
   "version": "3.7.9"
  },
  "papermill": {
   "default_parameters": {},
   "duration": 11.805262,
   "end_time": "2021-02-27T11:21:18.021255",
   "environment_variables": {},
   "exception": null,
   "input_path": "__notebook__.ipynb",
   "output_path": "__notebook__.ipynb",
   "parameters": {},
   "start_time": "2021-02-27T11:21:06.215993",
   "version": "2.2.2"
  }
 },
 "nbformat": 4,
 "nbformat_minor": 4
}
